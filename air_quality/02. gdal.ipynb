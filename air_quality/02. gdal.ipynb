{
 "cells": [
  {
   "attachments": {},
   "cell_type": "markdown",
   "metadata": {},
   "source": [
    "### GDAL Transformations"
   ]
  },
  {
   "cell_type": "code",
   "execution_count": null,
   "metadata": {},
   "outputs": [],
   "source": [
    "import os\n",
    "import subprocess\n",
    "from osgeo import gdal, ogr, osr\n",
    "\n",
    "def process_grib_file(input_file, base_output_name):\n",
    "    # open the dataset and get the geo transform matrix\n",
    "    ds = gdal.Open(input_file)\n",
    "    gt = ds.GetGeoTransform()\n",
    "    srs = osr.SpatialReference()\n",
    "    srs.ImportFromWkt(ds.GetProjection())\n",
    "\n",
    "    # create a new image with the data we want\n",
    "    driver = gdal.GetDriverByName('GTiff')\n",
    "    temp_file = f'data/tiffs/{base_output_name}_temp.tiff'\n",
    "    outRaster = driver.Create(temp_file, ds.RasterXSize, ds.RasterYSize, 1, gdal.GDT_Float32)\n",
    "    outRaster.SetGeoTransform(gt)\n",
    "    outRaster.SetProjection(ds.GetProjection())\n",
    "    outband = outRaster.GetRasterBand(1)\n",
    "    outband.WriteArray(ds.GetRasterBand(1).ReadAsArray())\n",
    "\n",
    "    # Set the nodata value\n",
    "    outband.SetNoDataValue(9999)\n",
    "    outband.FlushCache()\n",
    "    outRaster = None  # ensure the data gets written\n",
    "\n",
    "    # resample the GeoTIFF to a lower resolution\n",
    "    resampled_file = f'data/tiffs/{base_output_name}_resampled.tiff'\n",
    "    gdal.Warp(resampled_file, temp_file, xRes=0.1, yRes=0.1, dstNodata=9999, resampleAlg='bilinear')\n",
    "\n",
    "    # Generate contours\n",
    "    contour_shp = f'data/shapes/{base_output_name}_contour.shp'\n",
    "    contour_gdal_command = ['gdal_contour', '-a', 'pm2.5', '-i', '1', resampled_file, contour_shp]\n",
    "    subprocess.run(contour_gdal_command)\n",
    "\n",
    "    # polygonize the resampled GeoTIFF to a new shapefile\n",
    "    sourceRaster = gdal.Open(resampled_file)\n",
    "    band = sourceRaster.GetRasterBand(1)\n",
    "    outShapefile = f'data/shapes/{base_output_name}_polygonized.shp'\n",
    "    driver = ogr.GetDriverByName(\"ESRI Shapefile\")\n",
    "    outDataSource = driver.CreateDataSource(outShapefile)\n",
    "    outLayer = outDataSource.CreateLayer(outShapefile, srs)\n",
    "\n",
    "    # rename the field to 'pm2.5'\n",
    "    newField = ogr.FieldDefn('pm2.5', ogr.OFTReal)\n",
    "    outLayer.CreateField(newField)\n",
    "\n",
    "    gdal.Polygonize(band, None, outLayer, 0, [], callback=None )\n",
    "    outDataSource = None\n",
    "\n",
    "directory = \"data/pm25\"\n",
    "files = os.listdir(directory)\n",
    "\n",
    "for file in files:\n",
    "    if file.endswith('.grib2'):\n",
    "        file_path = os.path.join(directory, file)\n",
    "        base_output_name = os.path.splitext(file)[0]  # remove .grib2 extension\n",
    "        output_file = os.path.join(\"data/shapes\", f\"{base_output_name}_polygonized.shp\")\n",
    "        \n",
    "        if os.path.isfile(output_file):\n",
    "            print(f\"Output file for {file} already exists, skipping.\")\n",
    "            continue\n",
    "\n",
    "        process_grib_file(file_path, base_output_name)\n"
   ]
  },
  {
   "cell_type": "code",
   "execution_count": null,
   "metadata": {},
   "outputs": [
    {
     "name": "stdout",
     "output_type": "stream",
     "text": [
      "Success! Output: 0...10...20...30...40...50...60...70...80...90...100 - done.\n",
      "\n"
     ]
    }
   ],
   "source": [
    "import subprocess\n",
    "\n",
    "contour_shp = 'contour.shp'\n",
    "\n",
    "# Define the command as a list of strings\n",
    "contour_gdal_command = ['gdal_contour', '-a', 'pm2.5', '-i', '1', outputfile, contour_shp]\n",
    "\n",
    "\n",
    "# Use subprocess.run to execute the command\n",
    "proc = subprocess.run(contour_gdal_command, capture_output=True, text=True)\n",
    "\n",
    "# Check if the command was successful\n",
    "if proc.returncode != 0:\n",
    "    print(f'Error executing gdal_contour: {proc.stderr}')\n",
    "else:\n",
    "    print(f'Success! Output: {proc.stdout}')\n"
   ]
  },
  {
   "attachments": {},
   "cell_type": "markdown",
   "metadata": {},
   "source": [
    "### H3 Transformations"
   ]
  },
  {
   "cell_type": "code",
   "execution_count": null,
   "metadata": {},
   "outputs": [],
   "source": [
    "import geopandas as gpd\n",
    "import h3\n",
    "import pandas as pd\n",
    "from shapely.geometry import Polygon, Point\n",
    "from shapely.ops import transform\n",
    "from functools import partial\n",
    "import pyproj\n",
    "\n",
    "# Load shapefile into GeoDataFrame\n",
    "gdf = gpd.read_file('polygonized.shp')\n",
    "\n",
    "# Filter out the placeholder values\n",
    "gdf = gdf[gdf['pm2.5'] < 9999]\n",
    "\n",
    "# Function to convert coordinates to H3 index\n",
    "def coords_to_h3(lon, lat, resolution):\n",
    "    return h3.geo_to_h3(lat, lon, resolution)\n",
    "\n",
    "# Convert each point in the polygon to an H3 index\n",
    "gdf['h3'] = gdf.apply(lambda row: coords_to_h3(row.geometry.centroid.x, row.geometry.centroid.y, 5), axis=1)\n",
    "\n",
    "# Dissolve the GeoDataFrame by the H3 index, calculating the mean pm2.5 value for each hexagon\n",
    "gdf_hex = gdf.dissolve(by='h3', aggfunc='mean').reset_index()\n",
    "\n",
    "# Convert the H3 indices back to geometries (polygons) and create a new GeoDataFrame for visualization\n",
    "h3s = gdf_hex['h3'].unique()\n",
    "polygons = [Polygon(h3.h3_to_geo_boundary(h, geo_json=True)) for h in h3s]\n",
    "h3_gdf = gpd.GeoDataFrame(gdf_hex, geometry=[Polygon(h3.h3_to_geo_boundary(h, geo_json=True)) for h in gdf_hex['h3']])\n",
    "\n",
    "h3_gdf.crs = gdf.crs  # ensure the new GeoDataFrame has the same CRS as the original\n",
    "\n",
    "h3_gdf.to_file('output_h3.shp')\n"
   ]
  },
  {
   "cell_type": "code",
   "execution_count": null,
   "metadata": {},
   "outputs": [],
   "source": [
    "import geopandas as gpd\n",
    "from shapely.ops import polygonize, unary_union\n",
    "from shapely.geometry import LineString, MultiLineString\n",
    "\n",
    "# Load the contour shapefile\n",
    "contour_gdf = gpd.read_file('contour.shp')\n",
    "\n",
    "# Concatenate all the contours into a single MultiLineString\n",
    "contour_multilinestring = unary_union(contour_gdf.geometry)\n",
    "\n",
    "# Make sure we're working with a MultiLineString (may be unnecessary depending on your data)\n",
    "if isinstance(contour_multilinestring, LineString):\n",
    "    contour_multilinestring = MultiLineString([contour_multilinestring])\n",
    "\n",
    "# Polygonize the contours\n",
    "polygons = list(polygonize(contour_multilinestring))\n",
    "\n",
    "# Convert the polygons into a GeoDataFrame and save it as a new shapefile\n",
    "poly_gdf = gpd.GeoDataFrame({'geometry': polygons})\n",
    "poly_gdf.crs = contour_gdf.crs  # Use the same CRS as the input file\n",
    "poly_gdf.to_file('polygonized.shp')\n"
   ]
  },
  {
   "cell_type": "code",
   "execution_count": null,
   "metadata": {},
   "outputs": [],
   "source": [
    "import geopandas as gpd\n",
    "from shapely.ops import polygonize, unary_union\n",
    "from shapely.geometry import LineString, MultiLineString\n",
    "\n",
    "# Load the contour shapefile\n",
    "contour_gdf = gpd.read_file('contour.shp')\n",
    "\n",
    "# Concatenate all the contours into a single MultiLineString\n",
    "contour_multilinestring = unary_union(contour_gdf.geometry)\n",
    "\n",
    "# Make sure we're working with a MultiLineString (may be unnecessary depending on your data)\n",
    "if isinstance(contour_multilinestring, LineString):\n",
    "    contour_multilinestring = MultiLineString([contour_multilinestring])\n",
    "\n",
    "# Polygonize the contours\n",
    "polygons = list(polygonize(contour_multilinestring))\n",
    "\n",
    "# Simplify the polygons\n",
    "tolerance = 0.01  # Set this to a value that works well for your data\n",
    "simplified_polygons = [p.simplify(tolerance, preserve_topology=True) for p in polygons]\n",
    "\n",
    "\n",
    "# Convert the simplified polygons into a GeoDataFrame and save it as a new shapefile\n",
    "poly_gdf = gpd.GeoDataFrame({'geometry': simplified_polygons})\n",
    "poly_gdf.crs = contour_gdf.crs  # Use the same CRS as the input file\n",
    "poly_gdf.to_file('polygonized_smooth.shp')\n"
   ]
  },
  {
   "cell_type": "code",
   "execution_count": null,
   "metadata": {},
   "outputs": [],
   "source": []
  }
 ],
 "metadata": {
  "kernelspec": {
   "display_name": "gdal",
   "language": "python",
   "name": "python3"
  },
  "language_info": {
   "codemirror_mode": {
    "name": "ipython",
    "version": 3
   },
   "file_extension": ".py",
   "mimetype": "text/x-python",
   "name": "python",
   "nbconvert_exporter": "python",
   "pygments_lexer": "ipython3",
   "version": "3.8.16"
  },
  "orig_nbformat": 4,
  "vscode": {
   "interpreter": {
    "hash": "3fc1dfc23cee7a4519192cb690cdbacdd3a2efa80d218a57d7897f9206663373"
   }
  }
 },
 "nbformat": 4,
 "nbformat_minor": 2
}
