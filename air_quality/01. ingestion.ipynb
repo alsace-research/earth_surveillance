{
 "cells": [
  {
   "cell_type": "code",
   "execution_count": null,
   "metadata": {},
   "outputs": [],
   "source": [
    "import os\n",
    "import urllib.request\n",
    "from datetime import timedelta, date\n",
    "\n",
    "def daterange(start_date, end_date):\n",
    "    for n in range(int((end_date - start_date).days)):\n",
    "        yield end_date - timedelta(n)\n",
    "\n",
    "start_date = date(2012, 1, 1)\n",
    "end_date = date(2023, 5, 22)  # Adjust this to the current date if needed\n",
    "\n",
    "directory = \"data/pm25\"\n",
    "if not os.path.exists(directory):\n",
    "    os.makedirs(directory)\n",
    "\n",
    "for single_date in daterange(start_date, end_date):\n",
    "    date_str = single_date.strftime(\"%Y%m%d\")\n",
    "    file_path = os.path.join(directory, f'{date_str}_current_pm25.grib2')\n",
    "\n",
    "    if os.path.isfile(file_path):\n",
    "        print(f\"File for date {date_str} already exists, skipping download\")\n",
    "        continue\n",
    "\n",
    "    url = f'https://s3-us-west-1.amazonaws.com//files.airnowtech.org/airnow/{single_date.year}/{date_str}/current_pm25.grib2'\n",
    "\n",
    "    try:\n",
    "        urllib.request.urlretrieve(url, file_path)\n",
    "    except urllib.error.URLError:\n",
    "        print(f\"Could not download file for date {date_str}\")\n"
   ]
  },
  {
   "cell_type": "code",
   "execution_count": null,
   "metadata": {},
   "outputs": [],
   "source": [
    "# current_combined.grib2\n",
    "# current_ozone.grib2\n",
    "# current_pm10.grib2\n",
    "# current_pm25.grib2"
   ]
  }
 ],
 "metadata": {
  "kernelspec": {
   "display_name": "gdal",
   "language": "python",
   "name": "python3"
  },
  "language_info": {
   "codemirror_mode": {
    "name": "ipython",
    "version": 3
   },
   "file_extension": ".py",
   "mimetype": "text/x-python",
   "name": "python",
   "nbconvert_exporter": "python",
   "pygments_lexer": "ipython3",
   "version": "3.8.16"
  },
  "orig_nbformat": 4,
  "vscode": {
   "interpreter": {
    "hash": "3fc1dfc23cee7a4519192cb690cdbacdd3a2efa80d218a57d7897f9206663373"
   }
  }
 },
 "nbformat": 4,
 "nbformat_minor": 2
}
