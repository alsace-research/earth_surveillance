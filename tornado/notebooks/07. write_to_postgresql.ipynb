{
 "cells": [
  {
   "cell_type": "code",
   "execution_count": 1,
   "metadata": {},
   "outputs": [],
   "source": [
    "import os, requests, time, json, glob\n",
    "from io import StringIO\n",
    "from datetime import date, timedelta \n",
    "import matplotlib.pyplot as plt\n",
    "\n",
    "import urllib.parse\n",
    "from urllib.parse import urlparse\n",
    "\n",
    "import pandas as pd\n",
    "from pandas import json_normalize\n",
    "import geopandas as gpd\n",
    "\n",
    "import psycopg2\n",
    "from sqlalchemy import create_engine, Column, Integer, Float, String, DateTime\n",
    "\n",
    "from geoalchemy2 import Geometry, WKTElement\n",
    "\n",
    "import warnings\n",
    "warnings.filterwarnings(\"ignore\")"
   ]
  },
  {
   "attachments": {},
   "cell_type": "markdown",
   "metadata": {},
   "source": [
    "### Set the instance PostgreSQL to Neon.Tech"
   ]
  },
  {
   "cell_type": "code",
   "execution_count": 2,
   "metadata": {},
   "outputs": [],
   "source": [
    "connection_string = f''\n",
    "\n",
    "url = urlparse(connection_string)\n",
    "\n",
    "db_host = url.hostname\n",
    "db_port = url.port\n",
    "db_name = url.path[1:]\n",
    "db_user = url.username\n",
    "db_password = url.password"
   ]
  },
  {
   "cell_type": "code",
   "execution_count": 4,
   "metadata": {},
   "outputs": [],
   "source": [
    "def connect_to_db():\n",
    "    connection = None\n",
    "    try:\n",
    "        connection = psycopg2.connect(\n",
    "            host=db_host,\n",
    "            port=db_port,\n",
    "            dbname=db_name,\n",
    "            user=db_user,\n",
    "            password=db_password\n",
    "        )\n",
    "        print(\"Connected to the PostgreSQL instance!\")\n",
    "    except (Exception, psycopg2.DatabaseError) as error:\n",
    "        print(\"Error while connecting to PostgreSQL\", error)\n",
    "\n",
    "    return connection"
   ]
  },
  {
   "cell_type": "code",
   "execution_count": 5,
   "metadata": {},
   "outputs": [],
   "source": [
    "def execute_query(query):\n",
    "    connection = connect_to_db()\n",
    "\n",
    "    if connection is not None:\n",
    "        try:\n",
    "            cursor = connection.cursor()\n",
    "            cursor.execute(query)\n",
    "            result = cursor.fetchall()\n",
    "            print(\"Query result:\", result)\n",
    "        except (Exception, psycopg2.DatabaseError) as error:\n",
    "            print(\"Error while executing query\", error)\n",
    "        finally:\n",
    "            if connection is not None:\n",
    "                connection.close()\n",
    "                print(\"Connection closed.\")"
   ]
  },
  {
   "cell_type": "code",
   "execution_count": 6,
   "metadata": {},
   "outputs": [
    {
     "name": "stdout",
     "output_type": "stream",
     "text": [
      "Connected to the PostgreSQL instance!\n"
     ]
    }
   ],
   "source": [
    "connection = connect_to_db()"
   ]
  },
  {
   "attachments": {},
   "cell_type": "markdown",
   "metadata": {},
   "source": [
    "### Our connection to the database has been made"
   ]
  },
  {
   "cell_type": "code",
   "execution_count": 28,
   "metadata": {},
   "outputs": [
    {
     "name": "stdout",
     "output_type": "stream",
     "text": [
      "Connected to the PostgreSQL instance!\n",
      "Error while executing query relation \"geodata\" does not exist\n",
      "LINE 1: SELECT * FROM geodata;\n",
      "                      ^\n",
      "\n",
      "Connection closed.\n"
     ]
    }
   ],
   "source": [
    "# Example query to get all rows from a table named \"your_table_name\"\n",
    "example_query = \"SELECT * FROM geodata;\"\n",
    "execute_query(example_query)"
   ]
  },
  {
   "attachments": {},
   "cell_type": "markdown",
   "metadata": {},
   "source": [
    "### Configure the PostgreSQL instance to handle PostGIS + other extensions"
   ]
  },
  {
   "cell_type": "code",
   "execution_count": 8,
   "metadata": {},
   "outputs": [
    {
     "name": "stdout",
     "output_type": "stream",
     "text": [
      "Connected to the PostgreSQL instance!\n",
      "PostGIS-related extensions enabled.\n"
     ]
    }
   ],
   "source": [
    "def enable_postgis_extensions(connection):\n",
    "    try:\n",
    "        cursor = connection.cursor()\n",
    "        cursor.execute(\"CREATE EXTENSION IF NOT EXISTS postgis;\")\n",
    "        cursor.execute(\"CREATE EXTENSION IF NOT EXISTS postgis_topology;\")\n",
    "        cursor.execute(\"CREATE EXTENSION IF NOT EXISTS fuzzystrmatch;\")\n",
    "        cursor.execute(\"CREATE EXTENSION IF NOT EXISTS postgis_tiger_geocoder;\")\n",
    "        connection.commit()\n",
    "        print(\"PostGIS-related extensions enabled.\")\n",
    "    except (Exception, psycopg2.DatabaseError) as error:\n",
    "        print(\"Error while enabling PostGIS-related extensions\", error)\n",
    "\n",
    "connection = connect_to_db()\n",
    "if connection is not None:\n",
    "    enable_postgis_extensions(connection)\n",
    "    connection.close()\n"
   ]
  },
  {
   "attachments": {},
   "cell_type": "markdown",
   "metadata": {},
   "source": [
    "### Write geoDataframe to PostgreSQL"
   ]
  },
  {
   "cell_type": "code",
   "execution_count": 30,
   "metadata": {},
   "outputs": [],
   "source": [
    "entity_name = \"tornado_tracks\"\n",
    "\n",
    "# Read your GeoDataFrame from a file or create it programmatically\n",
    "gdf = gpd.read_file(f\"data/{entity_name}.shp\")"
   ]
  },
  {
   "cell_type": "code",
   "execution_count": 7,
   "metadata": {},
   "outputs": [
    {
     "ename": "ValueError",
     "evalue": "GeoDataFrame does not support multiple columns using the geometry column name 'geometry'.",
     "output_type": "error",
     "traceback": [
      "\u001b[0;31m---------------------------------------------------------------------------\u001b[0m",
      "\u001b[0;31mValueError\u001b[0m                                Traceback (most recent call last)",
      "\u001b[1;32m tornado/notebooks/04. write_to_postgresql.ipynb Cell 16\u001b[0m in \u001b[0;36m<cell line: 1>\u001b[0;34m()\u001b[0m\n\u001b[0;32m----> <a href='vscode-notebook-cell: tornado/notebooks/04.%20write_to_postgresql.ipynb#X21sZmlsZQ%3D%3D?line=0'>1</a>\u001b[0m gdf \u001b[39m=\u001b[39m gpd\u001b[39m.\u001b[39;49mread_file(\u001b[39mf\u001b[39;49m\u001b[39m\"\u001b[39;49m\u001b[39m tornado/notebooks/tornado_stats_final.csv\u001b[39;49m\u001b[39m\"\u001b[39;49m)\n",
      "File \u001b[0;32m~/miniforge3/envs/awesome/lib/python3.9/site-packages/geopandas/io/file.py:244\u001b[0m, in \u001b[0;36m_read_file\u001b[0;34m(filename, bbox, mask, rows, **kwargs)\u001b[0m\n\u001b[1;32m    239\u001b[0m \u001b[39mif\u001b[39;00m kwargs\u001b[39m.\u001b[39mget(\u001b[39m\"\u001b[39m\u001b[39mignore_geometry\u001b[39m\u001b[39m\"\u001b[39m, \u001b[39mFalse\u001b[39;00m):\n\u001b[1;32m    240\u001b[0m     \u001b[39mreturn\u001b[39;00m pd\u001b[39m.\u001b[39mDataFrame(\n\u001b[1;32m    241\u001b[0m         [record[\u001b[39m\"\u001b[39m\u001b[39mproperties\u001b[39m\u001b[39m\"\u001b[39m] \u001b[39mfor\u001b[39;00m record \u001b[39min\u001b[39;00m f_filt], columns\u001b[39m=\u001b[39mcolumns\n\u001b[1;32m    242\u001b[0m     )\n\u001b[0;32m--> 244\u001b[0m \u001b[39mreturn\u001b[39;00m GeoDataFrame\u001b[39m.\u001b[39;49mfrom_features(\n\u001b[1;32m    245\u001b[0m     f_filt, crs\u001b[39m=\u001b[39;49mcrs, columns\u001b[39m=\u001b[39;49mcolumns \u001b[39m+\u001b[39;49m [\u001b[39m\"\u001b[39;49m\u001b[39mgeometry\u001b[39;49m\u001b[39m\"\u001b[39;49m]\n\u001b[1;32m    246\u001b[0m )\n",
      "File \u001b[0;32m~/miniforge3/envs/awesome/lib/python3.9/site-packages/geopandas/geodataframe.py:610\u001b[0m, in \u001b[0;36mGeoDataFrame.from_features\u001b[0;34m(cls, features, crs, columns)\u001b[0m\n\u001b[1;32m    608\u001b[0m     row\u001b[39m.\u001b[39mupdate(feature[\u001b[39m\"\u001b[39m\u001b[39mproperties\u001b[39m\u001b[39m\"\u001b[39m])\n\u001b[1;32m    609\u001b[0m     rows\u001b[39m.\u001b[39mappend(row)\n\u001b[0;32m--> 610\u001b[0m \u001b[39mreturn\u001b[39;00m GeoDataFrame(rows, columns\u001b[39m=\u001b[39;49mcolumns, crs\u001b[39m=\u001b[39;49mcrs)\n",
      "File \u001b[0;32m~/miniforge3/envs/awesome/lib/python3.9/site-packages/geopandas/geodataframe.py:148\u001b[0m, in \u001b[0;36mGeoDataFrame.__init__\u001b[0;34m(self, data, geometry, crs, *args, **kwargs)\u001b[0m\n\u001b[1;32m    143\u001b[0m \u001b[39mif\u001b[39;00m geometry \u001b[39mis\u001b[39;00m \u001b[39mNone\u001b[39;00m \u001b[39mand\u001b[39;00m \u001b[39m\"\u001b[39m\u001b[39mgeometry\u001b[39m\u001b[39m\"\u001b[39m \u001b[39min\u001b[39;00m \u001b[39mself\u001b[39m\u001b[39m.\u001b[39mcolumns:\n\u001b[1;32m    144\u001b[0m     \u001b[39m# Check for multiple columns with name \"geometry\". If there are,\u001b[39;00m\n\u001b[1;32m    145\u001b[0m     \u001b[39m# self[\"geometry\"] is a gdf and constructor gets recursively recalled\u001b[39;00m\n\u001b[1;32m    146\u001b[0m     \u001b[39m# by pandas internals trying to access this\u001b[39;00m\n\u001b[1;32m    147\u001b[0m     \u001b[39mif\u001b[39;00m (\u001b[39mself\u001b[39m\u001b[39m.\u001b[39mcolumns \u001b[39m==\u001b[39m \u001b[39m\"\u001b[39m\u001b[39mgeometry\u001b[39m\u001b[39m\"\u001b[39m)\u001b[39m.\u001b[39msum() \u001b[39m>\u001b[39m \u001b[39m1\u001b[39m:\n\u001b[0;32m--> 148\u001b[0m         \u001b[39mraise\u001b[39;00m \u001b[39mValueError\u001b[39;00m(\n\u001b[1;32m    149\u001b[0m             \u001b[39m\"\u001b[39m\u001b[39mGeoDataFrame does not support multiple columns \u001b[39m\u001b[39m\"\u001b[39m\n\u001b[1;32m    150\u001b[0m             \u001b[39m\"\u001b[39m\u001b[39musing the geometry column name \u001b[39m\u001b[39m'\u001b[39m\u001b[39mgeometry\u001b[39m\u001b[39m'\u001b[39m\u001b[39m.\u001b[39m\u001b[39m\"\u001b[39m\n\u001b[1;32m    151\u001b[0m         )\n\u001b[1;32m    153\u001b[0m     \u001b[39m# only if we have actual geometry values -> call set_geometry\u001b[39;00m\n\u001b[1;32m    154\u001b[0m     index \u001b[39m=\u001b[39m \u001b[39mself\u001b[39m\u001b[39m.\u001b[39mindex\n",
      "\u001b[0;31mValueError\u001b[0m: GeoDataFrame does not support multiple columns using the geometry column name 'geometry'."
     ]
    }
   ],
   "source": [
    "gdf = gpd.read_file(f\"data/tornado_stats_final.csv\")"
   ]
  },
  {
   "cell_type": "code",
   "execution_count": null,
   "metadata": {},
   "outputs": [
    {
     "name": "stdout",
     "output_type": "stream",
     "text": [
      "<class 'geopandas.geodataframe.GeoDataFrame'>\n",
      "RangeIndex: 67558 entries, 0 to 67557\n",
      "Data columns (total 27 columns):\n",
      " #   Column      Non-Null Count  Dtype   \n",
      "---  ------      --------------  -----   \n",
      " 0   OBJECTID    67558 non-null  float64 \n",
      " 1   om          67558 non-null  float64 \n",
      " 2   yr          67558 non-null  float64 \n",
      " 3   mo          67558 non-null  float64 \n",
      " 4   dy          67558 non-null  float64 \n",
      " 5   date        67558 non-null  object  \n",
      " 6   time        67558 non-null  object  \n",
      " 7   tz          67558 non-null  float64 \n",
      " 8   st          67558 non-null  object  \n",
      " 9   stf         67558 non-null  float64 \n",
      " 10  stn         67558 non-null  float64 \n",
      " 11  mag         67558 non-null  float64 \n",
      " 12  inj         67558 non-null  float64 \n",
      " 13  fat         67558 non-null  float64 \n",
      " 14  loss        67558 non-null  float64 \n",
      " 15  closs       67558 non-null  float64 \n",
      " 16  slat        67558 non-null  float64 \n",
      " 17  slon        67558 non-null  float64 \n",
      " 18  elat        67558 non-null  float64 \n",
      " 19  elon        67558 non-null  float64 \n",
      " 20  len         67558 non-null  float64 \n",
      " 21  wid         67558 non-null  float64 \n",
      " 22  fc          67558 non-null  float64 \n",
      " 23  Shape__Len  57450 non-null  float64 \n",
      " 24  Month_Calc  67558 non-null  float64 \n",
      " 25  Date_Calc   67558 non-null  float64 \n",
      " 26  geometry    57450 non-null  geometry\n",
      "dtypes: float64(23), geometry(1), object(3)\n",
      "memory usage: 13.9+ MB\n"
     ]
    }
   ],
   "source": [
    "gdf.info()"
   ]
  },
  {
   "cell_type": "code",
   "execution_count": 16,
   "metadata": {},
   "outputs": [
    {
     "name": "stdout",
     "output_type": "stream",
     "text": [
      "The DataFrame has 66244 rows and 27 columns\n",
      "The mean length of tornado tracks is 3.4689402813849433 miles\n"
     ]
    },
    {
     "data": {
      "text/html": [
       "<div>\n",
       "<style scoped>\n",
       "    .dataframe tbody tr th:only-of-type {\n",
       "        vertical-align: middle;\n",
       "    }\n",
       "\n",
       "    .dataframe tbody tr th {\n",
       "        vertical-align: top;\n",
       "    }\n",
       "\n",
       "    .dataframe thead th {\n",
       "        text-align: right;\n",
       "    }\n",
       "</style>\n",
       "<table border=\"1\" class=\"dataframe\">\n",
       "  <thead>\n",
       "    <tr style=\"text-align: right;\">\n",
       "      <th></th>\n",
       "      <th>FID</th>\n",
       "      <th>om</th>\n",
       "      <th>yr</th>\n",
       "      <th>mo</th>\n",
       "      <th>dy</th>\n",
       "      <th>date</th>\n",
       "      <th>time</th>\n",
       "      <th>tz</th>\n",
       "      <th>st</th>\n",
       "      <th>stf</th>\n",
       "      <th>...</th>\n",
       "      <th>slon</th>\n",
       "      <th>elat</th>\n",
       "      <th>elon</th>\n",
       "      <th>len</th>\n",
       "      <th>wid</th>\n",
       "      <th>fc</th>\n",
       "      <th>Shape__Len</th>\n",
       "      <th>Month_Calc</th>\n",
       "      <th>Date_Calc</th>\n",
       "      <th>geometry</th>\n",
       "    </tr>\n",
       "  </thead>\n",
       "  <tbody>\n",
       "    <tr>\n",
       "      <th>0</th>\n",
       "      <td>1.0</td>\n",
       "      <td>134.0</td>\n",
       "      <td>1951.0</td>\n",
       "      <td>6.0</td>\n",
       "      <td>9.0</td>\n",
       "      <td>1951-06-09</td>\n",
       "      <td>05:30:00</td>\n",
       "      <td>3.0</td>\n",
       "      <td>MS</td>\n",
       "      <td>28.0</td>\n",
       "      <td>...</td>\n",
       "      <td>-90.72</td>\n",
       "      <td>32.9001</td>\n",
       "      <td>-90.7199</td>\n",
       "      <td>2.0</td>\n",
       "      <td>10.0</td>\n",
       "      <td>1.0</td>\n",
       "      <td>17.311948</td>\n",
       "      <td>5.0</td>\n",
       "      <td>-5.858640e+11</td>\n",
       "      <td>0102000020E610000002000000AE47E17A14AE56C03333...</td>\n",
       "    </tr>\n",
       "    <tr>\n",
       "      <th>1</th>\n",
       "      <td>2.0</td>\n",
       "      <td>135.0</td>\n",
       "      <td>1951.0</td>\n",
       "      <td>6.0</td>\n",
       "      <td>9.0</td>\n",
       "      <td>1951-06-09</td>\n",
       "      <td>17:00:00</td>\n",
       "      <td>3.0</td>\n",
       "      <td>NC</td>\n",
       "      <td>37.0</td>\n",
       "      <td>...</td>\n",
       "      <td>-78.33</td>\n",
       "      <td>36.0300</td>\n",
       "      <td>-78.2800</td>\n",
       "      <td>3.8</td>\n",
       "      <td>30.0</td>\n",
       "      <td>0.0</td>\n",
       "      <td>6930.119821</td>\n",
       "      <td>5.0</td>\n",
       "      <td>-5.858640e+11</td>\n",
       "      <td>0102000020E61000000200000085EB51B81E9553C00000...</td>\n",
       "    </tr>\n",
       "    <tr>\n",
       "      <th>2</th>\n",
       "      <td>3.0</td>\n",
       "      <td>189.0</td>\n",
       "      <td>1951.0</td>\n",
       "      <td>7.0</td>\n",
       "      <td>13.0</td>\n",
       "      <td>1951-07-13</td>\n",
       "      <td>20:00:00</td>\n",
       "      <td>3.0</td>\n",
       "      <td>NE</td>\n",
       "      <td>31.0</td>\n",
       "      <td>...</td>\n",
       "      <td>-102.58</td>\n",
       "      <td>41.2301</td>\n",
       "      <td>-102.5799</td>\n",
       "      <td>0.1</td>\n",
       "      <td>10.0</td>\n",
       "      <td>0.0</td>\n",
       "      <td>18.520593</td>\n",
       "      <td>6.0</td>\n",
       "      <td>-5.829264e+11</td>\n",
       "      <td>0102000020E61000000200000085EB51B81EA559C03D0A...</td>\n",
       "    </tr>\n",
       "    <tr>\n",
       "      <th>3</th>\n",
       "      <td>4.0</td>\n",
       "      <td>190.0</td>\n",
       "      <td>1951.0</td>\n",
       "      <td>7.0</td>\n",
       "      <td>15.0</td>\n",
       "      <td>1951-07-15</td>\n",
       "      <td>16:20:00</td>\n",
       "      <td>3.0</td>\n",
       "      <td>OK</td>\n",
       "      <td>40.0</td>\n",
       "      <td>...</td>\n",
       "      <td>-94.80</td>\n",
       "      <td>34.8001</td>\n",
       "      <td>-94.7999</td>\n",
       "      <td>0.1</td>\n",
       "      <td>100.0</td>\n",
       "      <td>0.0</td>\n",
       "      <td>17.541394</td>\n",
       "      <td>6.0</td>\n",
       "      <td>-5.827536e+11</td>\n",
       "      <td>0102000020E6100000020000003333333333B357C06666...</td>\n",
       "    </tr>\n",
       "    <tr>\n",
       "      <th>4</th>\n",
       "      <td>5.0</td>\n",
       "      <td>191.0</td>\n",
       "      <td>1951.0</td>\n",
       "      <td>7.0</td>\n",
       "      <td>15.0</td>\n",
       "      <td>1951-07-15</td>\n",
       "      <td>16:20:00</td>\n",
       "      <td>3.0</td>\n",
       "      <td>OK</td>\n",
       "      <td>40.0</td>\n",
       "      <td>...</td>\n",
       "      <td>-94.80</td>\n",
       "      <td>34.8001</td>\n",
       "      <td>-94.7999</td>\n",
       "      <td>0.1</td>\n",
       "      <td>100.0</td>\n",
       "      <td>0.0</td>\n",
       "      <td>17.541394</td>\n",
       "      <td>6.0</td>\n",
       "      <td>-5.827536e+11</td>\n",
       "      <td>0102000020E6100000020000003333333333B357C06666...</td>\n",
       "    </tr>\n",
       "    <tr>\n",
       "      <th>5</th>\n",
       "      <td>6.0</td>\n",
       "      <td>192.0</td>\n",
       "      <td>1951.0</td>\n",
       "      <td>7.0</td>\n",
       "      <td>15.0</td>\n",
       "      <td>1951-07-15</td>\n",
       "      <td>16:20:00</td>\n",
       "      <td>3.0</td>\n",
       "      <td>OK</td>\n",
       "      <td>40.0</td>\n",
       "      <td>...</td>\n",
       "      <td>-94.80</td>\n",
       "      <td>34.8001</td>\n",
       "      <td>-94.7999</td>\n",
       "      <td>0.1</td>\n",
       "      <td>100.0</td>\n",
       "      <td>0.0</td>\n",
       "      <td>17.541394</td>\n",
       "      <td>6.0</td>\n",
       "      <td>-5.827536e+11</td>\n",
       "      <td>0102000020E6100000020000003333333333B357C06666...</td>\n",
       "    </tr>\n",
       "    <tr>\n",
       "      <th>6</th>\n",
       "      <td>7.0</td>\n",
       "      <td>193.0</td>\n",
       "      <td>1951.0</td>\n",
       "      <td>7.0</td>\n",
       "      <td>17.0</td>\n",
       "      <td>1951-07-17</td>\n",
       "      <td>17:45:00</td>\n",
       "      <td>3.0</td>\n",
       "      <td>IA</td>\n",
       "      <td>19.0</td>\n",
       "      <td>...</td>\n",
       "      <td>-95.87</td>\n",
       "      <td>43.1801</td>\n",
       "      <td>-95.8699</td>\n",
       "      <td>0.1</td>\n",
       "      <td>10.0</td>\n",
       "      <td>0.0</td>\n",
       "      <td>18.893540</td>\n",
       "      <td>6.0</td>\n",
       "      <td>-5.825808e+11</td>\n",
       "      <td>0102000020E61000000200000048E17A14AEF757C0D7A3...</td>\n",
       "    </tr>\n",
       "    <tr>\n",
       "      <th>7</th>\n",
       "      <td>8.0</td>\n",
       "      <td>194.0</td>\n",
       "      <td>1951.0</td>\n",
       "      <td>7.0</td>\n",
       "      <td>20.0</td>\n",
       "      <td>1951-07-20</td>\n",
       "      <td>18:15:00</td>\n",
       "      <td>3.0</td>\n",
       "      <td>SD</td>\n",
       "      <td>46.0</td>\n",
       "      <td>...</td>\n",
       "      <td>-96.08</td>\n",
       "      <td>44.9001</td>\n",
       "      <td>-96.0799</td>\n",
       "      <td>1.0</td>\n",
       "      <td>10.0</td>\n",
       "      <td>0.0</td>\n",
       "      <td>19.258743</td>\n",
       "      <td>6.0</td>\n",
       "      <td>-5.823216e+11</td>\n",
       "      <td>0102000020E61000000200000085EB51B81E0558C03333...</td>\n",
       "    </tr>\n",
       "    <tr>\n",
       "      <th>8</th>\n",
       "      <td>9.0</td>\n",
       "      <td>195.0</td>\n",
       "      <td>1951.0</td>\n",
       "      <td>7.0</td>\n",
       "      <td>20.0</td>\n",
       "      <td>1951-07-20</td>\n",
       "      <td>21:00:00</td>\n",
       "      <td>3.0</td>\n",
       "      <td>MN</td>\n",
       "      <td>27.0</td>\n",
       "      <td>...</td>\n",
       "      <td>-93.50</td>\n",
       "      <td>44.8800</td>\n",
       "      <td>-93.2700</td>\n",
       "      <td>11.6</td>\n",
       "      <td>10.0</td>\n",
       "      <td>0.0</td>\n",
       "      <td>26782.339413</td>\n",
       "      <td>6.0</td>\n",
       "      <td>-5.823216e+11</td>\n",
       "      <td>0102000020E61000000200000000000000006057C0D7A3...</td>\n",
       "    </tr>\n",
       "    <tr>\n",
       "      <th>9</th>\n",
       "      <td>10.0</td>\n",
       "      <td>196.0</td>\n",
       "      <td>1951.0</td>\n",
       "      <td>7.0</td>\n",
       "      <td>21.0</td>\n",
       "      <td>1951-07-21</td>\n",
       "      <td>11:00:00</td>\n",
       "      <td>3.0</td>\n",
       "      <td>PA</td>\n",
       "      <td>42.0</td>\n",
       "      <td>...</td>\n",
       "      <td>-76.47</td>\n",
       "      <td>41.8001</td>\n",
       "      <td>-76.4699</td>\n",
       "      <td>0.1</td>\n",
       "      <td>10.0</td>\n",
       "      <td>0.0</td>\n",
       "      <td>18.625395</td>\n",
       "      <td>6.0</td>\n",
       "      <td>-5.822352e+11</td>\n",
       "      <td>0102000020E610000002000000AE47E17A141E53C06666...</td>\n",
       "    </tr>\n",
       "  </tbody>\n",
       "</table>\n",
       "<p>10 rows × 27 columns</p>\n",
       "</div>"
      ],
      "text/plain": [
       "    FID     om      yr   mo    dy        date      time   tz  st   stf  ...  \\\n",
       "0   1.0  134.0  1951.0  6.0   9.0  1951-06-09  05:30:00  3.0  MS  28.0  ...   \n",
       "1   2.0  135.0  1951.0  6.0   9.0  1951-06-09  17:00:00  3.0  NC  37.0  ...   \n",
       "2   3.0  189.0  1951.0  7.0  13.0  1951-07-13  20:00:00  3.0  NE  31.0  ...   \n",
       "3   4.0  190.0  1951.0  7.0  15.0  1951-07-15  16:20:00  3.0  OK  40.0  ...   \n",
       "4   5.0  191.0  1951.0  7.0  15.0  1951-07-15  16:20:00  3.0  OK  40.0  ...   \n",
       "5   6.0  192.0  1951.0  7.0  15.0  1951-07-15  16:20:00  3.0  OK  40.0  ...   \n",
       "6   7.0  193.0  1951.0  7.0  17.0  1951-07-17  17:45:00  3.0  IA  19.0  ...   \n",
       "7   8.0  194.0  1951.0  7.0  20.0  1951-07-20  18:15:00  3.0  SD  46.0  ...   \n",
       "8   9.0  195.0  1951.0  7.0  20.0  1951-07-20  21:00:00  3.0  MN  27.0  ...   \n",
       "9  10.0  196.0  1951.0  7.0  21.0  1951-07-21  11:00:00  3.0  PA  42.0  ...   \n",
       "\n",
       "     slon     elat      elon   len    wid   fc    Shape__Len  Month_Calc  \\\n",
       "0  -90.72  32.9001  -90.7199   2.0   10.0  1.0     17.311948         5.0   \n",
       "1  -78.33  36.0300  -78.2800   3.8   30.0  0.0   6930.119821         5.0   \n",
       "2 -102.58  41.2301 -102.5799   0.1   10.0  0.0     18.520593         6.0   \n",
       "3  -94.80  34.8001  -94.7999   0.1  100.0  0.0     17.541394         6.0   \n",
       "4  -94.80  34.8001  -94.7999   0.1  100.0  0.0     17.541394         6.0   \n",
       "5  -94.80  34.8001  -94.7999   0.1  100.0  0.0     17.541394         6.0   \n",
       "6  -95.87  43.1801  -95.8699   0.1   10.0  0.0     18.893540         6.0   \n",
       "7  -96.08  44.9001  -96.0799   1.0   10.0  0.0     19.258743         6.0   \n",
       "8  -93.50  44.8800  -93.2700  11.6   10.0  0.0  26782.339413         6.0   \n",
       "9  -76.47  41.8001  -76.4699   0.1   10.0  0.0     18.625395         6.0   \n",
       "\n",
       "      Date_Calc                                           geometry  \n",
       "0 -5.858640e+11  0102000020E610000002000000AE47E17A14AE56C03333...  \n",
       "1 -5.858640e+11  0102000020E61000000200000085EB51B81E9553C00000...  \n",
       "2 -5.829264e+11  0102000020E61000000200000085EB51B81EA559C03D0A...  \n",
       "3 -5.827536e+11  0102000020E6100000020000003333333333B357C06666...  \n",
       "4 -5.827536e+11  0102000020E6100000020000003333333333B357C06666...  \n",
       "5 -5.827536e+11  0102000020E6100000020000003333333333B357C06666...  \n",
       "6 -5.825808e+11  0102000020E61000000200000048E17A14AEF757C0D7A3...  \n",
       "7 -5.823216e+11  0102000020E61000000200000085EB51B81E0558C03333...  \n",
       "8 -5.823216e+11  0102000020E61000000200000000000000006057C0D7A3...  \n",
       "9 -5.822352e+11  0102000020E610000002000000AE47E17A141E53C06666...  \n",
       "\n",
       "[10 rows x 27 columns]"
      ]
     },
     "execution_count": 16,
     "metadata": {},
     "output_type": "execute_result"
    }
   ],
   "source": [
    "cursor = connection.cursor()\n",
    "\n",
    "query = '''\n",
    "SELECT *\n",
    "FROM tornado_tracks\n",
    "'''\n",
    "\n",
    "cursor.execute(query)\n",
    "data = cursor.fetchall()\n",
    "\n",
    "# Get the column names from the cursor description\n",
    "columns = [desc[0] for desc in cursor.description]\n",
    "\n",
    "# Create a DataFrame from the fetched data and column names\n",
    "df = pd.DataFrame(data, columns=columns)\n",
    "\n",
    "# Get the number of rows and columns in the DataFrame\n",
    "print(f\"The DataFrame has {df.shape[0]} rows and {df.shape[1]} columns\")\n",
    "\n",
    "# Calculate the mean value of the 'length' column\n",
    "print(f\"The mean length of tornado tracks is {df['len'].mean()} miles\")\n",
    "\n",
    "# Show the first 10 rows of the DataFrame\n",
    "df.head(10)\n"
   ]
  },
  {
   "cell_type": "code",
   "execution_count": 15,
   "metadata": {},
   "outputs": [
    {
     "name": "stderr",
     "output_type": "stream",
     "text": [
      "\n"
     ]
    },
    {
     "ename": "WKBReadingError",
     "evalue": "Could not create geometry because of errors while reading input.",
     "output_type": "error",
     "traceback": [
      "\u001b[0;31m---------------------------------------------------------------------------\u001b[0m",
      "\u001b[0;31mWKBReadingError\u001b[0m                           Traceback (most recent call last)",
      "\u001b[1;32m tornado/notebooks/01. write_to_postgresql.ipynb Cell 15\u001b[0m in \u001b[0;36m<cell line: 5>\u001b[0;34m()\u001b[0m\n\u001b[1;32m      <a href='vscode-notebook-cell: tornado/notebooks/01.%20write_to_postgresql.ipynb#Y102sZmlsZQ%3D%3D?line=1'>2</a>\u001b[0m query \u001b[39m=\u001b[39m \u001b[39m\"\u001b[39m\u001b[39mSELECT *,  ST_AsText(geometry) AS wkt_geom FROM tornado_tracks;\u001b[39m\u001b[39m\"\u001b[39m\n\u001b[1;32m      <a href='vscode-notebook-cell: tornado/notebooks/01.%20write_to_postgresql.ipynb#Y102sZmlsZQ%3D%3D?line=3'>4</a>\u001b[0m \u001b[39m# read data into GeoDataFrame\u001b[39;00m\n\u001b[0;32m----> <a href='vscode-notebook-cell: tornado/notebooks/01.%20write_to_postgresql.ipynb#Y102sZmlsZQ%3D%3D?line=4'>5</a>\u001b[0m gdf \u001b[39m=\u001b[39m gpd\u001b[39m.\u001b[39;49mread_postgis(query, connection, geom_col\u001b[39m=\u001b[39;49m\u001b[39m\"\u001b[39;49m\u001b[39mwkt_geom\u001b[39;49m\u001b[39m\"\u001b[39;49m)\n\u001b[1;32m      <a href='vscode-notebook-cell: tornado/notebooks/01.%20write_to_postgresql.ipynb#Y102sZmlsZQ%3D%3D?line=6'>7</a>\u001b[0m \u001b[39m# convert wkt_geom column from string to geometry type\u001b[39;00m\n\u001b[1;32m      <a href='vscode-notebook-cell: tornado/notebooks/01.%20write_to_postgresql.ipynb#Y102sZmlsZQ%3D%3D?line=7'>8</a>\u001b[0m gdf[\u001b[39m\"\u001b[39m\u001b[39mwkt_geom\u001b[39m\u001b[39m\"\u001b[39m] \u001b[39m=\u001b[39m gdf[\u001b[39m\"\u001b[39m\u001b[39mwkt_geom\u001b[39m\u001b[39m\"\u001b[39m]\u001b[39m.\u001b[39mapply(\u001b[39mlambda\u001b[39;00m x: shapely\u001b[39m.\u001b[39mwkt\u001b[39m.\u001b[39mloads(x))\n",
      "File \u001b[0;32m~/miniforge3/envs/awesome/lib/python3.9/site-packages/geopandas/io/sql.py:163\u001b[0m, in \u001b[0;36m_read_postgis\u001b[0;34m(sql, con, geom_col, crs, index_col, coerce_float, parse_dates, params, chunksize)\u001b[0m\n\u001b[1;32m    152\u001b[0m \u001b[39mif\u001b[39;00m chunksize \u001b[39mis\u001b[39;00m \u001b[39mNone\u001b[39;00m:\n\u001b[1;32m    153\u001b[0m     \u001b[39m# read all in one chunk and return a single GeoDataFrame\u001b[39;00m\n\u001b[1;32m    154\u001b[0m     df \u001b[39m=\u001b[39m pd\u001b[39m.\u001b[39mread_sql(\n\u001b[1;32m    155\u001b[0m         sql,\n\u001b[1;32m    156\u001b[0m         con,\n\u001b[0;32m   (...)\u001b[0m\n\u001b[1;32m    161\u001b[0m         chunksize\u001b[39m=\u001b[39mchunksize,\n\u001b[1;32m    162\u001b[0m     )\n\u001b[0;32m--> 163\u001b[0m     \u001b[39mreturn\u001b[39;00m _df_to_geodf(df, geom_col\u001b[39m=\u001b[39;49mgeom_col, crs\u001b[39m=\u001b[39;49mcrs)\n\u001b[1;32m    165\u001b[0m \u001b[39melse\u001b[39;00m:\n\u001b[1;32m    166\u001b[0m     \u001b[39m# read data in chunks and return a generator\u001b[39;00m\n\u001b[1;32m    167\u001b[0m     df_generator \u001b[39m=\u001b[39m pd\u001b[39m.\u001b[39mread_sql(\n\u001b[1;32m    168\u001b[0m         sql,\n\u001b[1;32m    169\u001b[0m         con,\n\u001b[0;32m   (...)\u001b[0m\n\u001b[1;32m    174\u001b[0m         chunksize\u001b[39m=\u001b[39mchunksize,\n\u001b[1;32m    175\u001b[0m     )\n",
      "File \u001b[0;32m~/miniforge3/envs/awesome/lib/python3.9/site-packages/geopandas/io/sql.py:86\u001b[0m, in \u001b[0;36m_df_to_geodf\u001b[0;34m(df, geom_col, crs)\u001b[0m\n\u001b[1;32m     83\u001b[0m \u001b[39melse\u001b[39;00m:\n\u001b[1;32m     84\u001b[0m     load_geom \u001b[39m=\u001b[39m load_geom_text\n\u001b[0;32m---> 86\u001b[0m df[geom_col] \u001b[39m=\u001b[39m geoms \u001b[39m=\u001b[39m geoms\u001b[39m.\u001b[39;49mapply(load_geom)\n\u001b[1;32m     87\u001b[0m \u001b[39mif\u001b[39;00m crs \u001b[39mis\u001b[39;00m \u001b[39mNone\u001b[39;00m:\n\u001b[1;32m     88\u001b[0m     srid \u001b[39m=\u001b[39m shapely\u001b[39m.\u001b[39mgeos\u001b[39m.\u001b[39mlgeos\u001b[39m.\u001b[39mGEOSGetSRID(geoms\u001b[39m.\u001b[39miat[\u001b[39m0\u001b[39m]\u001b[39m.\u001b[39m_geom)\n",
      "File \u001b[0;32m~/miniforge3/envs/awesome/lib/python3.9/site-packages/pandas/core/series.py:4433\u001b[0m, in \u001b[0;36mSeries.apply\u001b[0;34m(self, func, convert_dtype, args, **kwargs)\u001b[0m\n\u001b[1;32m   4323\u001b[0m \u001b[39mdef\u001b[39;00m \u001b[39mapply\u001b[39m(\n\u001b[1;32m   4324\u001b[0m     \u001b[39mself\u001b[39m,\n\u001b[1;32m   4325\u001b[0m     func: AggFuncType,\n\u001b[0;32m   (...)\u001b[0m\n\u001b[1;32m   4328\u001b[0m     \u001b[39m*\u001b[39m\u001b[39m*\u001b[39mkwargs,\n\u001b[1;32m   4329\u001b[0m ) \u001b[39m-\u001b[39m\u001b[39m>\u001b[39m DataFrame \u001b[39m|\u001b[39m Series:\n\u001b[1;32m   4330\u001b[0m     \u001b[39m\"\"\"\u001b[39;00m\n\u001b[1;32m   4331\u001b[0m \u001b[39m    Invoke function on values of Series.\u001b[39;00m\n\u001b[1;32m   4332\u001b[0m \n\u001b[0;32m   (...)\u001b[0m\n\u001b[1;32m   4431\u001b[0m \u001b[39m    dtype: float64\u001b[39;00m\n\u001b[1;32m   4432\u001b[0m \u001b[39m    \"\"\"\u001b[39;00m\n\u001b[0;32m-> 4433\u001b[0m     \u001b[39mreturn\u001b[39;00m SeriesApply(\u001b[39mself\u001b[39;49m, func, convert_dtype, args, kwargs)\u001b[39m.\u001b[39;49mapply()\n",
      "File \u001b[0;32m~/miniforge3/envs/awesome/lib/python3.9/site-packages/pandas/core/apply.py:1088\u001b[0m, in \u001b[0;36mSeriesApply.apply\u001b[0;34m(self)\u001b[0m\n\u001b[1;32m   1084\u001b[0m \u001b[39mif\u001b[39;00m \u001b[39misinstance\u001b[39m(\u001b[39mself\u001b[39m\u001b[39m.\u001b[39mf, \u001b[39mstr\u001b[39m):\n\u001b[1;32m   1085\u001b[0m     \u001b[39m# if we are a string, try to dispatch\u001b[39;00m\n\u001b[1;32m   1086\u001b[0m     \u001b[39mreturn\u001b[39;00m \u001b[39mself\u001b[39m\u001b[39m.\u001b[39mapply_str()\n\u001b[0;32m-> 1088\u001b[0m \u001b[39mreturn\u001b[39;00m \u001b[39mself\u001b[39;49m\u001b[39m.\u001b[39;49mapply_standard()\n",
      "File \u001b[0;32m~/miniforge3/envs/awesome/lib/python3.9/site-packages/pandas/core/apply.py:1143\u001b[0m, in \u001b[0;36mSeriesApply.apply_standard\u001b[0;34m(self)\u001b[0m\n\u001b[1;32m   1137\u001b[0m         values \u001b[39m=\u001b[39m obj\u001b[39m.\u001b[39mastype(\u001b[39mobject\u001b[39m)\u001b[39m.\u001b[39m_values\n\u001b[1;32m   1138\u001b[0m         \u001b[39m# error: Argument 2 to \"map_infer\" has incompatible type\u001b[39;00m\n\u001b[1;32m   1139\u001b[0m         \u001b[39m# \"Union[Callable[..., Any], str, List[Union[Callable[..., Any], str]],\u001b[39;00m\n\u001b[1;32m   1140\u001b[0m         \u001b[39m# Dict[Hashable, Union[Union[Callable[..., Any], str],\u001b[39;00m\n\u001b[1;32m   1141\u001b[0m         \u001b[39m# List[Union[Callable[..., Any], str]]]]]\"; expected\u001b[39;00m\n\u001b[1;32m   1142\u001b[0m         \u001b[39m# \"Callable[[Any], Any]\"\u001b[39;00m\n\u001b[0;32m-> 1143\u001b[0m         mapped \u001b[39m=\u001b[39m lib\u001b[39m.\u001b[39;49mmap_infer(\n\u001b[1;32m   1144\u001b[0m             values,\n\u001b[1;32m   1145\u001b[0m             f,  \u001b[39m# type: ignore[arg-type]\u001b[39;49;00m\n\u001b[1;32m   1146\u001b[0m             convert\u001b[39m=\u001b[39;49m\u001b[39mself\u001b[39;49m\u001b[39m.\u001b[39;49mconvert_dtype,\n\u001b[1;32m   1147\u001b[0m         )\n\u001b[1;32m   1149\u001b[0m \u001b[39mif\u001b[39;00m \u001b[39mlen\u001b[39m(mapped) \u001b[39mand\u001b[39;00m \u001b[39misinstance\u001b[39m(mapped[\u001b[39m0\u001b[39m], ABCSeries):\n\u001b[1;32m   1150\u001b[0m     \u001b[39m# GH#43986 Need to do list(mapped) in order to get treated as nested\u001b[39;00m\n\u001b[1;32m   1151\u001b[0m     \u001b[39m#  See also GH#25959 regarding EA support\u001b[39;00m\n\u001b[1;32m   1152\u001b[0m     \u001b[39mreturn\u001b[39;00m obj\u001b[39m.\u001b[39m_constructor_expanddim(\u001b[39mlist\u001b[39m(mapped), index\u001b[39m=\u001b[39mobj\u001b[39m.\u001b[39mindex)\n",
      "File \u001b[0;32m~/miniforge3/envs/awesome/lib/python3.9/site-packages/pandas/_libs/lib.pyx:2870\u001b[0m, in \u001b[0;36mpandas._libs.lib.map_infer\u001b[0;34m()\u001b[0m\n",
      "File \u001b[0;32m~/miniforge3/envs/awesome/lib/python3.9/site-packages/geopandas/io/sql.py:79\u001b[0m, in \u001b[0;36m_df_to_geodf.<locals>.load_geom_text\u001b[0;34m(x)\u001b[0m\n\u001b[1;32m     77\u001b[0m \u001b[39mdef\u001b[39;00m \u001b[39mload_geom_text\u001b[39m(x):\n\u001b[1;32m     78\u001b[0m     \u001b[39m\"\"\"Load from binary encoded as text.\"\"\"\u001b[39;00m\n\u001b[0;32m---> 79\u001b[0m     \u001b[39mreturn\u001b[39;00m shapely\u001b[39m.\u001b[39;49mwkb\u001b[39m.\u001b[39;49mloads(\u001b[39mstr\u001b[39;49m(x), \u001b[39mhex\u001b[39;49m\u001b[39m=\u001b[39;49m\u001b[39mTrue\u001b[39;49;00m)\n",
      "File \u001b[0;32m~/miniforge3/envs/awesome/lib/python3.9/site-packages/shapely/wkb.py:21\u001b[0m, in \u001b[0;36mloads\u001b[0;34m(data, hex)\u001b[0m\n\u001b[1;32m     19\u001b[0m reader \u001b[39m=\u001b[39m WKBReader(lgeos)\n\u001b[1;32m     20\u001b[0m \u001b[39mif\u001b[39;00m \u001b[39mhex\u001b[39m:\n\u001b[0;32m---> 21\u001b[0m     \u001b[39mreturn\u001b[39;00m reader\u001b[39m.\u001b[39;49mread_hex(data)\n\u001b[1;32m     22\u001b[0m \u001b[39melse\u001b[39;00m:\n\u001b[1;32m     23\u001b[0m     \u001b[39mreturn\u001b[39;00m reader\u001b[39m.\u001b[39mread(data)\n",
      "File \u001b[0;32m~/miniforge3/envs/awesome/lib/python3.9/site-packages/shapely/geos.py:442\u001b[0m, in \u001b[0;36mWKBReader.read_hex\u001b[0;34m(self, data)\u001b[0m\n\u001b[1;32m    439\u001b[0m geom \u001b[39m=\u001b[39m \u001b[39mself\u001b[39m\u001b[39m.\u001b[39m_lgeos\u001b[39m.\u001b[39mGEOSWKBReader_readHEX(\n\u001b[1;32m    440\u001b[0m     \u001b[39mself\u001b[39m\u001b[39m.\u001b[39m_reader, c_char_p(data), c_size_t(\u001b[39mlen\u001b[39m(data)))\n\u001b[1;32m    441\u001b[0m \u001b[39mif\u001b[39;00m \u001b[39mnot\u001b[39;00m geom:\n\u001b[0;32m--> 442\u001b[0m     \u001b[39mraise\u001b[39;00m WKBReadingError(\n\u001b[1;32m    443\u001b[0m         \u001b[39m\"\u001b[39m\u001b[39mCould not create geometry because of errors \u001b[39m\u001b[39m\"\u001b[39m\n\u001b[1;32m    444\u001b[0m         \u001b[39m\"\u001b[39m\u001b[39mwhile reading input.\u001b[39m\u001b[39m\"\u001b[39m)\n\u001b[1;32m    445\u001b[0m \u001b[39m# avoid circular import dependency\u001b[39;00m\n\u001b[1;32m    446\u001b[0m \u001b[39mfrom\u001b[39;00m \u001b[39mshapely\u001b[39;00m \u001b[39mimport\u001b[39;00m geometry\n",
      "\u001b[0;31mWKBReadingError\u001b[0m: Could not create geometry because of errors while reading input."
     ]
    }
   ],
   "source": [
    "# define SQL query\n",
    "query = \"SELECT *,  ST_AsText(geometry) AS wkt_geom FROM tornado_tracks;\"\n",
    "\n",
    "# read data into GeoDataFrame\n",
    "gdf = gpd.read_postgis(query, connection, geom_col=\"wkt_geom\")\n",
    "\n",
    "# convert wkt_geom column from string to geometry type\n",
    "gdf[\"wkt_geom\"] = gdf[\"wkt_geom\"].apply(lambda x: shapely.wkt.loads(x))\n"
   ]
  },
  {
   "cell_type": "code",
   "execution_count": 8,
   "metadata": {},
   "outputs": [
    {
     "name": "stdout",
     "output_type": "stream",
     "text": [
      "Connected to the PostgreSQL instance!\n",
      "spatial_ref_sys\n",
      "geography_columns\n",
      "geometry_columns\n",
      "myspatialtable\n",
      "table_name\n",
      "tornado_tracks\n",
      "geodata\n",
      "\"Table_Name\"\n",
      "Table_Name\n"
     ]
    }
   ],
   "source": [
    "connection = connect_to_db()\n",
    "cursor = connection.cursor()\n",
    "\n",
    "query = '''\n",
    "SELECT table_name\n",
    "FROM information_schema.tables\n",
    "WHERE table_schema = 'public'\n",
    "'''\n",
    "\n",
    "cursor.execute(query)\n",
    "tables = cursor.fetchall()\n",
    "\n",
    "for table in tables:\n",
    "    print(table[0])\n"
   ]
  },
  {
   "attachments": {},
   "cell_type": "markdown",
   "metadata": {},
   "source": [
    "### Function: Fix Invalid Geometries (pre-processing)"
   ]
  },
  {
   "cell_type": "code",
   "execution_count": 17,
   "metadata": {},
   "outputs": [
    {
     "name": "stdout",
     "output_type": "stream",
     "text": [
      "Invalid geometries found\n"
     ]
    }
   ],
   "source": [
    "import geopandas as gpd\n",
    "\n",
    "# Test for invalid geometries in a GeoDataFrame\n",
    "invalid_geom = gdf[~gdf.is_valid]\n",
    "if not invalid_geom.empty:\n",
    "    print('Invalid geometries found')"
   ]
  },
  {
   "cell_type": "code",
   "execution_count": 18,
   "metadata": {},
   "outputs": [
    {
     "ename": "KeyboardInterrupt",
     "evalue": "",
     "output_type": "error",
     "traceback": [
      "\u001b[0;31m---------------------------------------------------------------------------\u001b[0m",
      "\u001b[0;31mKeyboardInterrupt\u001b[0m                         Traceback (most recent call last)",
      "\u001b[1;32m tornado/notebooks/01. write_to_postgresql.ipynb Cell 19\u001b[0m in \u001b[0;36m<cell line: 13>\u001b[0;34m()\u001b[0m\n\u001b[1;32m     <a href='vscode-notebook-cell: tornado/notebooks/01.%20write_to_postgresql.ipynb#X53sZmlsZQ%3D%3D?line=9'>10</a>\u001b[0m     \u001b[39m# Re-test for invalid geometries and recursively fix them if necessary\u001b[39;00m\n\u001b[1;32m     <a href='vscode-notebook-cell: tornado/notebooks/01.%20write_to_postgresql.ipynb#X53sZmlsZQ%3D%3D?line=10'>11</a>\u001b[0m     \u001b[39mreturn\u001b[39;00m fix_invalid_geometries(gdf)\n\u001b[0;32m---> <a href='vscode-notebook-cell: tornado/notebooks/01.%20write_to_postgresql.ipynb#X53sZmlsZQ%3D%3D?line=12'>13</a>\u001b[0m fixed_gdf \u001b[39m=\u001b[39m fix_invalid_geometries(gdf)\n",
      "\u001b[1;32m tornado/notebooks/01. write_to_postgresql.ipynb Cell 19\u001b[0m in \u001b[0;36mfix_invalid_geometries\u001b[0;34m(gdf, buffer_distance)\u001b[0m\n\u001b[1;32m      <a href='vscode-notebook-cell: tornado/notebooks/01.%20write_to_postgresql.ipynb#X53sZmlsZQ%3D%3D?line=7'>8</a>\u001b[0m gdf\u001b[39m.\u001b[39mloc[\u001b[39m~\u001b[39mgdf\u001b[39m.\u001b[39mis_valid, \u001b[39m'\u001b[39m\u001b[39mgeometry\u001b[39m\u001b[39m'\u001b[39m] \u001b[39m=\u001b[39m invalid_geom\u001b[39m.\u001b[39mbuffer(buffer_distance)\n\u001b[1;32m     <a href='vscode-notebook-cell: tornado/notebooks/01.%20write_to_postgresql.ipynb#X53sZmlsZQ%3D%3D?line=9'>10</a>\u001b[0m \u001b[39m# Re-test for invalid geometries and recursively fix them if necessary\u001b[39;00m\n\u001b[0;32m---> <a href='vscode-notebook-cell: tornado/notebooks/01.%20write_to_postgresql.ipynb#X53sZmlsZQ%3D%3D?line=10'>11</a>\u001b[0m \u001b[39mreturn\u001b[39;00m fix_invalid_geometries(gdf)\n",
      "\u001b[1;32m tornado/notebooks/01. write_to_postgresql.ipynb Cell 19\u001b[0m in \u001b[0;36mfix_invalid_geometries\u001b[0;34m(gdf, buffer_distance)\u001b[0m\n\u001b[1;32m      <a href='vscode-notebook-cell: tornado/notebooks/01.%20write_to_postgresql.ipynb#X53sZmlsZQ%3D%3D?line=7'>8</a>\u001b[0m gdf\u001b[39m.\u001b[39mloc[\u001b[39m~\u001b[39mgdf\u001b[39m.\u001b[39mis_valid, \u001b[39m'\u001b[39m\u001b[39mgeometry\u001b[39m\u001b[39m'\u001b[39m] \u001b[39m=\u001b[39m invalid_geom\u001b[39m.\u001b[39mbuffer(buffer_distance)\n\u001b[1;32m     <a href='vscode-notebook-cell: tornado/notebooks/01.%20write_to_postgresql.ipynb#X53sZmlsZQ%3D%3D?line=9'>10</a>\u001b[0m \u001b[39m# Re-test for invalid geometries and recursively fix them if necessary\u001b[39;00m\n\u001b[0;32m---> <a href='vscode-notebook-cell: tornado/notebooks/01.%20write_to_postgresql.ipynb#X53sZmlsZQ%3D%3D?line=10'>11</a>\u001b[0m \u001b[39mreturn\u001b[39;00m fix_invalid_geometries(gdf)\n",
      "    \u001b[0;31m[... skipping similar frames: fix_invalid_geometries at line 11 (995 times)]\u001b[0m\n",
      "\u001b[1;32m tornado/notebooks/01. write_to_postgresql.ipynb Cell 19\u001b[0m in \u001b[0;36mfix_invalid_geometries\u001b[0;34m(gdf, buffer_distance)\u001b[0m\n\u001b[1;32m      <a href='vscode-notebook-cell: tornado/notebooks/01.%20write_to_postgresql.ipynb#X53sZmlsZQ%3D%3D?line=7'>8</a>\u001b[0m gdf\u001b[39m.\u001b[39mloc[\u001b[39m~\u001b[39mgdf\u001b[39m.\u001b[39mis_valid, \u001b[39m'\u001b[39m\u001b[39mgeometry\u001b[39m\u001b[39m'\u001b[39m] \u001b[39m=\u001b[39m invalid_geom\u001b[39m.\u001b[39mbuffer(buffer_distance)\n\u001b[1;32m     <a href='vscode-notebook-cell: tornado/notebooks/01.%20write_to_postgresql.ipynb#X53sZmlsZQ%3D%3D?line=9'>10</a>\u001b[0m \u001b[39m# Re-test for invalid geometries and recursively fix them if necessary\u001b[39;00m\n\u001b[0;32m---> <a href='vscode-notebook-cell: tornado/notebooks/01.%20write_to_postgresql.ipynb#X53sZmlsZQ%3D%3D?line=10'>11</a>\u001b[0m \u001b[39mreturn\u001b[39;00m fix_invalid_geometries(gdf)\n",
      "\u001b[1;32m tornado/notebooks/01. write_to_postgresql.ipynb Cell 19\u001b[0m in \u001b[0;36mfix_invalid_geometries\u001b[0;34m(gdf, buffer_distance)\u001b[0m\n\u001b[1;32m      <a href='vscode-notebook-cell: tornado/notebooks/01.%20write_to_postgresql.ipynb#X53sZmlsZQ%3D%3D?line=4'>5</a>\u001b[0m     \u001b[39mreturn\u001b[39;00m gdf\n\u001b[1;32m      <a href='vscode-notebook-cell: tornado/notebooks/01.%20write_to_postgresql.ipynb#X53sZmlsZQ%3D%3D?line=6'>7</a>\u001b[0m \u001b[39m# Fix invalid geometries by buffering with a small distance\u001b[39;00m\n\u001b[0;32m----> <a href='vscode-notebook-cell: tornado/notebooks/01.%20write_to_postgresql.ipynb#X53sZmlsZQ%3D%3D?line=7'>8</a>\u001b[0m gdf\u001b[39m.\u001b[39mloc[\u001b[39m~\u001b[39mgdf\u001b[39m.\u001b[39mis_valid, \u001b[39m'\u001b[39m\u001b[39mgeometry\u001b[39m\u001b[39m'\u001b[39m] \u001b[39m=\u001b[39m invalid_geom\u001b[39m.\u001b[39;49mbuffer(buffer_distance)\n\u001b[1;32m     <a href='vscode-notebook-cell: tornado/notebooks/01.%20write_to_postgresql.ipynb#X53sZmlsZQ%3D%3D?line=9'>10</a>\u001b[0m \u001b[39m# Re-test for invalid geometries and recursively fix them if necessary\u001b[39;00m\n\u001b[1;32m     <a href='vscode-notebook-cell: tornado/notebooks/01.%20write_to_postgresql.ipynb#X53sZmlsZQ%3D%3D?line=10'>11</a>\u001b[0m \u001b[39mreturn\u001b[39;00m fix_invalid_geometries(gdf)\n",
      "File \u001b[0;32m~/miniforge3/envs/awesome/lib/python3.9/site-packages/geopandas/base.py:2723\u001b[0m, in \u001b[0;36mGeoPandasBase.buffer\u001b[0;34m(self, distance, resolution, **kwargs)\u001b[0m\n\u001b[1;32m   2717\u001b[0m         \u001b[39mraise\u001b[39;00m \u001b[39mValueError\u001b[39;00m(\n\u001b[1;32m   2718\u001b[0m             \u001b[39m\"\u001b[39m\u001b[39mIndex values of distance sequence does \u001b[39m\u001b[39m\"\u001b[39m\n\u001b[1;32m   2719\u001b[0m             \u001b[39m\"\u001b[39m\u001b[39mnot match index values of the GeoSeries\u001b[39m\u001b[39m\"\u001b[39m\n\u001b[1;32m   2720\u001b[0m         )\n\u001b[1;32m   2721\u001b[0m     distance \u001b[39m=\u001b[39m np\u001b[39m.\u001b[39masarray(distance)\n\u001b[0;32m-> 2723\u001b[0m \u001b[39mreturn\u001b[39;00m _delegate_geo_method(\n\u001b[1;32m   2724\u001b[0m     \u001b[39m\"\u001b[39;49m\u001b[39mbuffer\u001b[39;49m\u001b[39m\"\u001b[39;49m, \u001b[39mself\u001b[39;49m, distance, resolution\u001b[39m=\u001b[39;49mresolution, \u001b[39m*\u001b[39;49m\u001b[39m*\u001b[39;49mkwargs\n\u001b[1;32m   2725\u001b[0m )\n",
      "File \u001b[0;32m~/miniforge3/envs/awesome/lib/python3.9/site-packages/geopandas/base.py:81\u001b[0m, in \u001b[0;36m_delegate_geo_method\u001b[0;34m(op, this, *args, **kwargs)\u001b[0m\n\u001b[1;32m     78\u001b[0m \u001b[39mfrom\u001b[39;00m \u001b[39m.\u001b[39;00m\u001b[39mgeoseries\u001b[39;00m \u001b[39mimport\u001b[39;00m GeoSeries\n\u001b[1;32m     80\u001b[0m a_this \u001b[39m=\u001b[39m GeometryArray(this\u001b[39m.\u001b[39mgeometry\u001b[39m.\u001b[39mvalues)\n\u001b[0;32m---> 81\u001b[0m data \u001b[39m=\u001b[39m \u001b[39mgetattr\u001b[39;49m(a_this, op)(\u001b[39m*\u001b[39;49margs, \u001b[39m*\u001b[39;49m\u001b[39m*\u001b[39;49mkwargs)\u001b[39m.\u001b[39mdata\n\u001b[1;32m     82\u001b[0m \u001b[39mreturn\u001b[39;00m GeoSeries(data, index\u001b[39m=\u001b[39mthis\u001b[39m.\u001b[39mindex, crs\u001b[39m=\u001b[39mthis\u001b[39m.\u001b[39mcrs)\n",
      "File \u001b[0;32m~/miniforge3/envs/awesome/lib/python3.9/site-packages/geopandas/array.py:614\u001b[0m, in \u001b[0;36mGeometryArray.buffer\u001b[0;34m(self, distance, resolution, **kwargs)\u001b[0m\n\u001b[1;32m    612\u001b[0m \u001b[39mdef\u001b[39;00m \u001b[39mbuffer\u001b[39m(\u001b[39mself\u001b[39m, distance, resolution\u001b[39m=\u001b[39m\u001b[39m16\u001b[39m, \u001b[39m*\u001b[39m\u001b[39m*\u001b[39mkwargs):\n\u001b[1;32m    613\u001b[0m     \u001b[39mif\u001b[39;00m \u001b[39mnot\u001b[39;00m (\u001b[39misinstance\u001b[39m(distance, (\u001b[39mint\u001b[39m, \u001b[39mfloat\u001b[39m)) \u001b[39mand\u001b[39;00m distance \u001b[39m==\u001b[39m \u001b[39m0\u001b[39m):\n\u001b[0;32m--> 614\u001b[0m         \u001b[39mself\u001b[39;49m\u001b[39m.\u001b[39;49mcheck_geographic_crs(stacklevel\u001b[39m=\u001b[39;49m\u001b[39m5\u001b[39;49m)\n\u001b[1;32m    615\u001b[0m     \u001b[39mreturn\u001b[39;00m GeometryArray(\n\u001b[1;32m    616\u001b[0m         vectorized\u001b[39m.\u001b[39mbuffer(\u001b[39mself\u001b[39m\u001b[39m.\u001b[39mdata, distance, resolution\u001b[39m=\u001b[39mresolution, \u001b[39m*\u001b[39m\u001b[39m*\u001b[39mkwargs),\n\u001b[1;32m    617\u001b[0m         crs\u001b[39m=\u001b[39m\u001b[39mself\u001b[39m\u001b[39m.\u001b[39mcrs,\n\u001b[1;32m    618\u001b[0m     )\n",
      "File \u001b[0;32m~/miniforge3/envs/awesome/lib/python3.9/site-packages/geopandas/array.py:345\u001b[0m, in \u001b[0;36mGeometryArray.check_geographic_crs\u001b[0;34m(self, stacklevel)\u001b[0m\n\u001b[1;32m    339\u001b[0m \u001b[39m\"\"\"Check CRS and warn if the planar operation is done in a geographic CRS\"\"\"\u001b[39;00m\n\u001b[1;32m    340\u001b[0m \u001b[39mif\u001b[39;00m \u001b[39mself\u001b[39m\u001b[39m.\u001b[39mcrs \u001b[39mand\u001b[39;00m \u001b[39mself\u001b[39m\u001b[39m.\u001b[39mcrs\u001b[39m.\u001b[39mis_geographic:\n\u001b[1;32m    341\u001b[0m     warnings\u001b[39m.\u001b[39mwarn(\n\u001b[1;32m    342\u001b[0m         \u001b[39m\"\u001b[39m\u001b[39mGeometry is in a geographic CRS. Results from \u001b[39m\u001b[39m'\u001b[39m\u001b[39m{}\u001b[39;00m\u001b[39m'\u001b[39m\u001b[39m are likely \u001b[39m\u001b[39m\"\u001b[39m\n\u001b[1;32m    343\u001b[0m         \u001b[39m\"\u001b[39m\u001b[39mincorrect. Use \u001b[39m\u001b[39m'\u001b[39m\u001b[39mGeoSeries.to_crs()\u001b[39m\u001b[39m'\u001b[39m\u001b[39m to re-project geometries to a \u001b[39m\u001b[39m\"\u001b[39m\n\u001b[1;32m    344\u001b[0m         \u001b[39m\"\u001b[39m\u001b[39mprojected CRS before this operation.\u001b[39m\u001b[39m\\n\u001b[39;00m\u001b[39m\"\u001b[39m\u001b[39m.\u001b[39mformat(\n\u001b[0;32m--> 345\u001b[0m             inspect\u001b[39m.\u001b[39;49mstack()[\u001b[39m1\u001b[39m]\u001b[39m.\u001b[39mfunction\n\u001b[1;32m    346\u001b[0m         ),\n\u001b[1;32m    347\u001b[0m         \u001b[39mUserWarning\u001b[39;00m,\n\u001b[1;32m    348\u001b[0m         stacklevel\u001b[39m=\u001b[39mstacklevel,\n\u001b[1;32m    349\u001b[0m     )\n",
      "File \u001b[0;32m~/miniforge3/envs/awesome/lib/python3.9/inspect.py:1554\u001b[0m, in \u001b[0;36mstack\u001b[0;34m(context)\u001b[0m\n\u001b[1;32m   1552\u001b[0m \u001b[39mdef\u001b[39;00m \u001b[39mstack\u001b[39m(context\u001b[39m=\u001b[39m\u001b[39m1\u001b[39m):\n\u001b[1;32m   1553\u001b[0m     \u001b[39m\"\"\"Return a list of records for the stack above the caller's frame.\"\"\"\u001b[39;00m\n\u001b[0;32m-> 1554\u001b[0m     \u001b[39mreturn\u001b[39;00m getouterframes(sys\u001b[39m.\u001b[39;49m_getframe(\u001b[39m1\u001b[39;49m), context)\n",
      "File \u001b[0;32m~/miniforge3/envs/awesome/lib/python3.9/inspect.py:1531\u001b[0m, in \u001b[0;36mgetouterframes\u001b[0;34m(frame, context)\u001b[0m\n\u001b[1;32m   1529\u001b[0m framelist \u001b[39m=\u001b[39m []\n\u001b[1;32m   1530\u001b[0m \u001b[39mwhile\u001b[39;00m frame:\n\u001b[0;32m-> 1531\u001b[0m     frameinfo \u001b[39m=\u001b[39m (frame,) \u001b[39m+\u001b[39m getframeinfo(frame, context)\n\u001b[1;32m   1532\u001b[0m     framelist\u001b[39m.\u001b[39mappend(FrameInfo(\u001b[39m*\u001b[39mframeinfo))\n\u001b[1;32m   1533\u001b[0m     frame \u001b[39m=\u001b[39m frame\u001b[39m.\u001b[39mf_back\n",
      "File \u001b[0;32m~/miniforge3/envs/awesome/lib/python3.9/inspect.py:1501\u001b[0m, in \u001b[0;36mgetframeinfo\u001b[0;34m(frame, context)\u001b[0m\n\u001b[1;32m   1498\u001b[0m \u001b[39mif\u001b[39;00m \u001b[39mnot\u001b[39;00m isframe(frame):\n\u001b[1;32m   1499\u001b[0m     \u001b[39mraise\u001b[39;00m \u001b[39mTypeError\u001b[39;00m(\u001b[39m'\u001b[39m\u001b[39m{!r}\u001b[39;00m\u001b[39m is not a frame or traceback object\u001b[39m\u001b[39m'\u001b[39m\u001b[39m.\u001b[39mformat(frame))\n\u001b[0;32m-> 1501\u001b[0m filename \u001b[39m=\u001b[39m getsourcefile(frame) \u001b[39mor\u001b[39;00m getfile(frame)\n\u001b[1;32m   1502\u001b[0m \u001b[39mif\u001b[39;00m context \u001b[39m>\u001b[39m \u001b[39m0\u001b[39m:\n\u001b[1;32m   1503\u001b[0m     start \u001b[39m=\u001b[39m lineno \u001b[39m-\u001b[39m \u001b[39m1\u001b[39m \u001b[39m-\u001b[39m context\u001b[39m/\u001b[39m\u001b[39m/\u001b[39m\u001b[39m2\u001b[39m\n",
      "File \u001b[0;32m~/miniforge3/envs/awesome/lib/python3.9/inspect.py:709\u001b[0m, in \u001b[0;36mgetsourcefile\u001b[0;34m(object)\u001b[0m\n\u001b[1;32m    707\u001b[0m     \u001b[39mreturn\u001b[39;00m filename\n\u001b[1;32m    708\u001b[0m \u001b[39m# only return a non-existent filename if the module has a PEP 302 loader\u001b[39;00m\n\u001b[0;32m--> 709\u001b[0m \u001b[39mif\u001b[39;00m \u001b[39mgetattr\u001b[39m(getmodule(\u001b[39mobject\u001b[39;49m, filename), \u001b[39m'\u001b[39m\u001b[39m__loader__\u001b[39m\u001b[39m'\u001b[39m, \u001b[39mNone\u001b[39;00m) \u001b[39mis\u001b[39;00m \u001b[39mnot\u001b[39;00m \u001b[39mNone\u001b[39;00m:\n\u001b[1;32m    710\u001b[0m     \u001b[39mreturn\u001b[39;00m filename\n\u001b[1;32m    711\u001b[0m \u001b[39m# or it is in the linecache\u001b[39;00m\n",
      "File \u001b[0;32m~/miniforge3/envs/awesome/lib/python3.9/inspect.py:748\u001b[0m, in \u001b[0;36mgetmodule\u001b[0;34m(object, _filename)\u001b[0m\n\u001b[1;32m    746\u001b[0m \u001b[39mif\u001b[39;00m ismodule(module) \u001b[39mand\u001b[39;00m \u001b[39mhasattr\u001b[39m(module, \u001b[39m'\u001b[39m\u001b[39m__file__\u001b[39m\u001b[39m'\u001b[39m):\n\u001b[1;32m    747\u001b[0m     f \u001b[39m=\u001b[39m module\u001b[39m.\u001b[39m\u001b[39m__file__\u001b[39m\n\u001b[0;32m--> 748\u001b[0m     \u001b[39mif\u001b[39;00m f \u001b[39m==\u001b[39m _filesbymodname\u001b[39m.\u001b[39;49mget(modname, \u001b[39mNone\u001b[39;49;00m):\n\u001b[1;32m    749\u001b[0m         \u001b[39m# Have already mapped this module, so skip it\u001b[39;00m\n\u001b[1;32m    750\u001b[0m         \u001b[39mcontinue\u001b[39;00m\n\u001b[1;32m    751\u001b[0m     _filesbymodname[modname] \u001b[39m=\u001b[39m f\n",
      "\u001b[0;31mKeyboardInterrupt\u001b[0m: "
     ]
    }
   ],
   "source": [
    "def fix_invalid_geometries(gdf, buffer_distance=0.0001):\n",
    "    # Find invalid geometries\n",
    "    invalid_geom = gdf[~gdf.is_valid]\n",
    "    if invalid_geom.empty:\n",
    "        return gdf\n",
    "\n",
    "    # Fix invalid geometries by buffering with a small distance\n",
    "    gdf.loc[~gdf.is_valid, 'geometry'] = invalid_geom.buffer(buffer_distance)\n",
    "\n",
    "    # Re-test for invalid geometries and recursively fix them if necessary\n",
    "    return fix_invalid_geometries(gdf)\n",
    "\n",
    "fixed_gdf = fix_invalid_geometries(gdf)\n"
   ]
  },
  {
   "cell_type": "code",
   "execution_count": 20,
   "metadata": {},
   "outputs": [
    {
     "ename": "ImportError",
     "evalue": "cannot import name 'make_valid' from 'shapely.ops' (/Users/ /miniforge3/envs/awesome/lib/python3.9/site-packages/shapely/ops.py)",
     "output_type": "error",
     "traceback": [
      "\u001b[0;31m---------------------------------------------------------------------------\u001b[0m",
      "\u001b[0;31mImportError\u001b[0m                               Traceback (most recent call last)",
      "\u001b[1;32m tornado/notebooks/01. write_to_postgresql.ipynb Cell 20\u001b[0m in \u001b[0;36m<cell line: 5>\u001b[0;34m()\u001b[0m\n\u001b[1;32m      <a href='vscode-notebook-cell: tornado/notebooks/01.%20write_to_postgresql.ipynb#Y103sZmlsZQ%3D%3D?line=2'>3</a>\u001b[0m \u001b[39mimport\u001b[39;00m \u001b[39mdask_geopandas\u001b[39;00m \u001b[39mas\u001b[39;00m \u001b[39mdask_gpd\u001b[39;00m\n\u001b[1;32m      <a href='vscode-notebook-cell: tornado/notebooks/01.%20write_to_postgresql.ipynb#Y103sZmlsZQ%3D%3D?line=3'>4</a>\u001b[0m \u001b[39mfrom\u001b[39;00m \u001b[39mshapely\u001b[39;00m\u001b[39m.\u001b[39;00m\u001b[39mgeometry\u001b[39;00m \u001b[39mimport\u001b[39;00m shape, mapping\n\u001b[0;32m----> <a href='vscode-notebook-cell: tornado/notebooks/01.%20write_to_postgresql.ipynb#Y103sZmlsZQ%3D%3D?line=4'>5</a>\u001b[0m \u001b[39mfrom\u001b[39;00m \u001b[39mshapely\u001b[39;00m\u001b[39m.\u001b[39;00m\u001b[39mops\u001b[39;00m \u001b[39mimport\u001b[39;00m make_valid\n",
      "\u001b[0;31mImportError\u001b[0m: cannot import name 'make_valid' from 'shapely.ops' (/Users/ /miniforge3/envs/awesome/lib/python3.9/site-packages/shapely/ops.py)"
     ]
    }
   ],
   "source": [
    "import geopandas as gpd\n",
    "import dask.dataframe as dd\n",
    "import dask_geopandas as dask_gpd\n",
    "from shapely.geometry import shape, mapping\n",
    "#from shapely.ops import make_valid\n"
   ]
  },
  {
   "cell_type": "code",
   "execution_count": 25,
   "metadata": {},
   "outputs": [],
   "source": [
    "def fix_invalid_geometry(geometry):\n",
    "    if geometry.is_valid:\n",
    "        return geometry\n",
    "    else:\n",
    "        return geometry.buffer(0.0001)"
   ]
  },
  {
   "cell_type": "code",
   "execution_count": 26,
   "metadata": {},
   "outputs": [],
   "source": [
    "# Read the data with GeoPandas\n",
    "# Convert GeoPandas GeoDataFrame to Dask-GeoPandas GeoDataFrame\n",
    "dgdf = dask_gpd.from_geopandas(gdf, npartitions=4)"
   ]
  },
  {
   "cell_type": "code",
   "execution_count": 27,
   "metadata": {},
   "outputs": [],
   "source": [
    "# Apply the fix_invalid_geometry function in a distributed way using Dask\n",
    "dgdf['geometry'] = dgdf['geometry'].map_partitions(lambda part: part.apply(fix_invalid_geometry), meta=('geometry', 'object'))"
   ]
  },
  {
   "cell_type": "code",
   "execution_count": 31,
   "metadata": {},
   "outputs": [
    {
     "data": {
      "text/plain": [
       "Dask GeoSeries Structure:\n",
       "npartitions=4\n",
       "0        geometry\n",
       "16561         ...\n",
       "33122         ...\n",
       "49683         ...\n",
       "66243         ...\n",
       "Name: geometry, dtype: geometry\n",
       "Dask Name: getitem, 5 graph layers"
      ]
     },
     "execution_count": 31,
     "metadata": {},
     "output_type": "execute_result"
    }
   ],
   "source": [
    "dgdf['geometry']"
   ]
  },
  {
   "cell_type": "code",
   "execution_count": 28,
   "metadata": {},
   "outputs": [
    {
     "name": "stdout",
     "output_type": "stream",
     "text": [
      "Unexpected exception formatting exception. Falling back to standard exception\n"
     ]
    },
    {
     "name": "stderr",
     "output_type": "stream",
     "text": [
      "Traceback (most recent call last):\n",
      "  File \"/Users/ /miniforge3/envs/awesome/lib/python3.9/site-packages/IPython/core/interactiveshell.py\", line 3369, in run_code\n",
      "    exec(code_obj, self.user_global_ns, self.user_ns)\n",
      "  File \"/var/folders/n4/p2lmf2l94x3gfqhs72xx2zwr0000gn/T/ipykernel_53149/1100382602.py\", line 2, in <cell line: 2>\n",
      "    fixed_geometries_gdf = dgdf.compute()\n",
      "  File \"/Users/ /miniforge3/envs/awesome/lib/python3.9/site-packages/dask/base.py\", line 314, in compute\n",
      "  File \"/Users/ /miniforge3/envs/awesome/lib/python3.9/site-packages/dask/base.py\", line 599, in compute\n",
      "  File \"/Users/ /miniforge3/envs/awesome/lib/python3.9/site-packages/dask/threaded.py\", line 89, in get\n",
      "    **kwargs,\n",
      "  File \"/Users/ /miniforge3/envs/awesome/lib/python3.9/site-packages/dask/local.py\", line 511, in get_async\n",
      "    finish_task(dsk, key, state, results, keyorder.get)\n",
      "  File \"/Users/ /miniforge3/envs/awesome/lib/python3.9/site-packages/dask/local.py\", line 319, in reraise\n",
      "    def identity(x):\n",
      "  File \"/Users/ /miniforge3/envs/awesome/lib/python3.9/site-packages/dask/local.py\", line 224, in execute_task\n",
      "    failed = False\n",
      "  File \"/Users/ /miniforge3/envs/awesome/lib/python3.9/site-packages/dask/core.py\", line 119, in _execute_task\n",
      "    return func(*(_execute_task(a, cache) for a in args))\n",
      "  File \"/Users/ /miniforge3/envs/awesome/lib/python3.9/site-packages/dask/optimization.py\", line 990, in __call__\n",
      "    return core.get(self.dsk, self.outkey, dict(zip(self.inkeys, args)))\n",
      "  File \"/Users/ /miniforge3/envs/awesome/lib/python3.9/site-packages/dask/core.py\", line 149, in get\n",
      "    result = _execute_task(task, cache)\n",
      "  File \"/Users/ /miniforge3/envs/awesome/lib/python3.9/site-packages/dask/core.py\", line 119, in _execute_task\n",
      "    return func(*(_execute_task(a, cache) for a in args))\n",
      "  File \"/Users/ /miniforge3/envs/awesome/lib/python3.9/site-packages/dask/core.py\", line 119, in <genexpr>\n",
      "    return func(*(_execute_task(a, cache) for a in args))\n",
      "  File \"/Users/ /miniforge3/envs/awesome/lib/python3.9/site-packages/dask/core.py\", line 119, in _execute_task\n",
      "    return func(*(_execute_task(a, cache) for a in args))\n",
      "  File \"/Users/ /miniforge3/envs/awesome/lib/python3.9/site-packages/dask/utils.py\", line 73, in apply\n",
      "  File \"/Users/ /miniforge3/envs/awesome/lib/python3.9/site-packages/dask/dataframe/core.py\", line 7010, in apply_and_enforce\n",
      "    {('b', 0): (<function boundary_slice at ...>, ('a', 0), 1, 3, False),\n",
      "  File \"/var/folders/n4/p2lmf2l94x3gfqhs72xx2zwr0000gn/T/ipykernel_53149/701106198.py\", line 2, in <lambda>\n",
      "    dgdf['geometry'] = dgdf['geometry'].map_partitions(lambda part: part.apply(fix_invalid_geometry), meta=('geometry', 'object'))\n",
      "  File \"/Users/ /miniforge3/envs/awesome/lib/python3.9/site-packages/geopandas/geoseries.py\", line 624, in apply\n",
      "    result = super().apply(func, convert_dtype=convert_dtype, args=args, **kwargs)\n",
      "  File \"/Users/ /miniforge3/envs/awesome/lib/python3.9/site-packages/pandas/core/series.py\", line 4433, in apply\n",
      "    return SeriesApply(self, func, convert_dtype, args, kwargs).apply()\n",
      "  File \"/Users/ /miniforge3/envs/awesome/lib/python3.9/site-packages/pandas/core/apply.py\", line 1088, in apply\n",
      "    return self.apply_standard()\n",
      "  File \"/Users/ /miniforge3/envs/awesome/lib/python3.9/site-packages/pandas/core/apply.py\", line 1143, in apply_standard\n",
      "    mapped = lib.map_infer(\n",
      "  File \"pandas/_libs/lib.pyx\", line 2870, in pandas._libs.lib.map_infer\n",
      "  File \"/var/folders/n4/p2lmf2l94x3gfqhs72xx2zwr0000gn/T/ipykernel_53149/3203995629.py\", line 2, in fix_invalid_geometry\n",
      "    if geometry.is_valid:\n",
      "AttributeError: 'NoneType' object has no attribute 'is_valid'\n",
      "\n",
      "During handling of the above exception, another exception occurred:\n",
      "\n",
      "Traceback (most recent call last):\n",
      "  File \"/Users/ /miniforge3/envs/awesome/lib/python3.9/site-packages/IPython/core/interactiveshell.py\", line 1982, in showtraceback\n",
      "    stb = self.InteractiveTB.structured_traceback(\n",
      "  File \"/Users/ /miniforge3/envs/awesome/lib/python3.9/site-packages/IPython/core/ultratb.py\", line 1118, in structured_traceback\n",
      "    return FormattedTB.structured_traceback(\n",
      "  File \"/Users/ /miniforge3/envs/awesome/lib/python3.9/site-packages/IPython/core/ultratb.py\", line 1012, in structured_traceback\n",
      "    return VerboseTB.structured_traceback(\n",
      "  File \"/Users/ /miniforge3/envs/awesome/lib/python3.9/site-packages/IPython/core/ultratb.py\", line 865, in structured_traceback\n",
      "    formatted_exception = self.format_exception_as_a_whole(etype, evalue, etb, number_of_lines_of_context,\n",
      "  File \"/Users/ /miniforge3/envs/awesome/lib/python3.9/site-packages/IPython/core/ultratb.py\", line 818, in format_exception_as_a_whole\n",
      "    frames.append(self.format_record(r))\n",
      "  File \"/Users/ /miniforge3/envs/awesome/lib/python3.9/site-packages/IPython/core/ultratb.py\", line 736, in format_record\n",
      "    result += ''.join(_format_traceback_lines(frame_info.lines, Colors, self.has_colors, lvals))\n",
      "  File \"/Users/ /miniforge3/envs/awesome/lib/python3.9/site-packages/stack_data/utils.py\", line 145, in cached_property_wrapper\n",
      "    value = obj.__dict__[self.func.__name__] = self.func(obj)\n",
      "  File \"/Users/ /miniforge3/envs/awesome/lib/python3.9/site-packages/stack_data/core.py\", line 698, in lines\n",
      "    pieces = self.included_pieces\n",
      "  File \"/Users/ /miniforge3/envs/awesome/lib/python3.9/site-packages/stack_data/utils.py\", line 145, in cached_property_wrapper\n",
      "    value = obj.__dict__[self.func.__name__] = self.func(obj)\n",
      "  File \"/Users/ /miniforge3/envs/awesome/lib/python3.9/site-packages/stack_data/core.py\", line 649, in included_pieces\n",
      "    pos = scope_pieces.index(self.executing_piece)\n",
      "  File \"/Users/ /miniforge3/envs/awesome/lib/python3.9/site-packages/stack_data/utils.py\", line 145, in cached_property_wrapper\n",
      "    value = obj.__dict__[self.func.__name__] = self.func(obj)\n",
      "  File \"/Users/ /miniforge3/envs/awesome/lib/python3.9/site-packages/stack_data/core.py\", line 628, in executing_piece\n",
      "    return only(\n",
      "  File \"/Users/ /miniforge3/envs/awesome/lib/python3.9/site-packages/executing/executing.py\", line 164, in only\n",
      "    raise NotOneValueFound('Expected one value, found 0')\n",
      "executing.executing.NotOneValueFound: Expected one value, found 0\n"
     ]
    }
   ],
   "source": [
    "# Compute the results\n",
    "fixed_geometries_gdf = dgdf.compute()\n",
    "\n",
    "# Save the fixed geometries to a new file\n",
    "#fixed_geometries_gdf.to_file(\"fixed_geometries.geojson\", driver=\"GeoJSON\")"
   ]
  },
  {
   "cell_type": "code",
   "execution_count": null,
   "metadata": {},
   "outputs": [],
   "source": []
  }
 ],
 "metadata": {
  "kernelspec": {
   "display_name": "Python 3",
   "language": "python",
   "name": "python3"
  },
  "language_info": {
   "codemirror_mode": {
    "name": "ipython",
    "version": 3
   },
   "file_extension": ".py",
   "mimetype": "text/x-python",
   "name": "python",
   "nbconvert_exporter": "python",
   "pygments_lexer": "ipython3",
   "version": "3.9.12"
  },
  "vscode": {
   "interpreter": {
    "hash": "13930b3feebd826b01a850d818522bf3a9dbd664b32bf0f3d878f211b3671a46"
   }
  }
 },
 "nbformat": 4,
 "nbformat_minor": 4
}
