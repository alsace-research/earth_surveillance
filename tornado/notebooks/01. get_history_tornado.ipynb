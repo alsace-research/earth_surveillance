{
 "cells": [
  {
   "cell_type": "code",
   "execution_count": 7,
   "metadata": {},
   "outputs": [
    {
     "name": "stdout",
     "output_type": "stream",
     "text": [
      "Fetched data for offset 0\n",
      "Fetched data for offset 2000\n",
      "Fetched data for offset 4000\n",
      "Fetched data for offset 6000\n",
      "Fetched data for offset 8000\n",
      "Fetched data for offset 10000\n",
      "Fetched data for offset 12000\n",
      "Fetched data for offset 14000\n"
     ]
    },
    {
     "name": "stderr",
     "output_type": "stream",
     "text": [
      "/Users//mambaforge/envs/myenv/lib/python3.8/site-packages/fiona/model.py:131: RuntimeWarning: coroutine 'main' was never awaited\n",
      "  return {\n",
      "RuntimeWarning: Enable tracemalloc to get the object allocation traceback\n"
     ]
    },
    {
     "name": "stdout",
     "output_type": "stream",
     "text": [
      "Fetched data for offset 16000\n",
      "Fetched data for offset 18000\n",
      "Fetched data for offset 20000\n",
      "Fetched data for offset 22000\n",
      "Fetched data for offset 24000\n",
      "Fetched data for offset 26000\n",
      "Fetched data for offset 28000\n",
      "Fetched data for offset 30000\n",
      "Fetched data for offset 32000\n",
      "Fetched data for offset 34000\n",
      "Fetched data for offset 36000\n",
      "Fetched data for offset 38000\n",
      "Fetched data for offset 40000\n",
      "Fetched data for offset 42000\n",
      "Fetched data for offset 44000\n",
      "Fetched data for offset 46000\n",
      "Fetched data for offset 48000\n",
      "Fetched data for offset 50000\n",
      "Fetched data for offset 52000\n",
      "Fetched data for offset 54000\n",
      "Fetched data for offset 56000\n",
      "Fetched data for offset 58000\n",
      "Fetched data for offset 60000\n",
      "Fetched data for offset 62000\n",
      "Fetched data for offset 64000\n",
      "Fetched data for offset 66000\n",
      "Fetched data for offset 68000\n"
     ]
    },
    {
     "name": "stderr",
     "output_type": "stream",
     "text": [
      "/var/folders/n4/p2lmf2l94x3gfqhs72xx2zwr0000gn/T/ipykernel_71486/2677212420.py:68: UserWarning: Column names longer than 10 characters will be truncated when saved to ESRI Shapefile.\n",
      "  final_geo_dataframe.to_file(f'{output_directory}/tornado_history.shp')\n"
     ]
    },
    {
     "name": "stdout",
     "output_type": "stream",
     "text": [
      "Saved final GeoDataFrame with 68701 records\n",
      "Total time: 44.53 seconds\n"
     ]
    }
   ],
   "source": [
    "import os\n",
    "import requests\n",
    "import time\n",
    "import asyncio\n",
    "import aiohttp\n",
    "import pandas as pd\n",
    "import geopandas as gpd\n",
    "from urllib.parse import urlencode\n",
    "import nest_asyncio\n",
    "nest_asyncio.apply()\n",
    "\n",
    "\n",
    "url = r'https://services2.arcgis.com/FiaPA4ga0iQKduv3/arcgis/rest/services/Tornado_Tracks_1950_2017_1/FeatureServer/0/query?'\n",
    "\n",
    "params = {\n",
    "    'where': '1=1',\n",
    "    'geometryType': 'esriGeometryPolygon',\n",
    "    'returnExceededLimitFeatures': 'false',\n",
    "    'inSR': '4326',\n",
    "    'units': 'esriSRUnit_Meter',\n",
    "    'returnGeometry': 'true',\n",
    "    'outFields': '*',\n",
    "    'f': 'pgeojson',\n",
    "    'resultOffset': '0',\n",
    "    'resultRecordCount': '2000'\n",
    "}\n",
    "\n",
    "max_records = 660000\n",
    "\n",
    "# Get the total number of records\n",
    "count_params = params.copy()\n",
    "count_params['returnCountOnly'] = 'true'\n",
    "count_url = url + urlencode(count_params)\n",
    "count_response = requests.get(count_url)\n",
    "total_records = count_response.json()['properties']['count']\n",
    "\n",
    "output_directory = \"data\"\n",
    "\n",
    "# Create the output directory if it doesn't exist\n",
    "os.makedirs(output_directory, exist_ok=True)\n",
    "\n",
    "async def fetch(session, offset):\n",
    "    params['resultOffset'] = str(offset)\n",
    "    url_final = url + urlencode(params)\n",
    "    async with session.get(url_final) as response:\n",
    "        return await response.text()\n",
    "\n",
    "async def main():\n",
    "    # Calculate the number of pages to fetch\n",
    "    num_pages = min(total_records, max_records) // 2000 + (min(total_records, max_records) % 2000 > 0)\n",
    "\n",
    "    # Generate the offsets based on the number of pages\n",
    "    offsets = [i * 2000 for i in range(num_pages)]\n",
    "    \n",
    "    geo_dataframes = []\n",
    "\n",
    "    async with aiohttp.ClientSession() as session:\n",
    "        for offset in offsets:\n",
    "            try:\n",
    "                data = await fetch(session, offset)\n",
    "                df = gpd.read_file(data)\n",
    "                geo_dataframes.append(df)\n",
    "                print(f'Fetched data for offset {offset}')\n",
    "            except Exception as e:\n",
    "                print(f'Error fetching data for offset {offset}: {e}')\n",
    "\n",
    "    final_geo_dataframe = gpd.GeoDataFrame(pd.concat(geo_dataframes, ignore_index=True), crs=df.crs)\n",
    "    final_geo_dataframe.to_file(f'{output_directory}/tornado_history.shp')\n",
    "    print(f'Saved final GeoDataFrame with {len(final_geo_dataframe)} records')\n",
    "\n",
    "if __name__ == '__main__':\n",
    "    start_time = time.time()\n",
    "    asyncio.run(main())\n",
    "    print(f'Total time: {time.time() - start_time:.2f} seconds')\n"
   ]
  },
  {
   "cell_type": "code",
   "execution_count": null,
   "metadata": {},
   "outputs": [],
   "source": []
  }
 ],
 "metadata": {
  "kernelspec": {
   "display_name": "myenv",
   "language": "python",
   "name": "python3"
  },
  "language_info": {
   "codemirror_mode": {
    "name": "ipython",
    "version": 3
   },
   "file_extension": ".py",
   "mimetype": "text/x-python",
   "name": "python",
   "nbconvert_exporter": "python",
   "pygments_lexer": "ipython3",
   "version": "3.8.16"
  },
  "vscode": {
   "interpreter": {
    "hash": "433811c3a1c4aa5b6f7fe4235e70853906676587ea73eb05f665082bf217bd00"
   }
  }
 },
 "nbformat": 4,
 "nbformat_minor": 4
}
